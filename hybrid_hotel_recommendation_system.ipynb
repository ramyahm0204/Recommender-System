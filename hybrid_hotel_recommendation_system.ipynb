{
 "cells": [
  {
   "cell_type": "markdown",
   "metadata": {},
   "source": [
    "# Hybrid hotel recommendation system"
   ]
  },
  {
   "cell_type": "markdown",
   "metadata": {},
   "source": [
    "## Environment"
   ]
  },
  {
   "cell_type": "markdown",
   "metadata": {},
   "source": [
    "Environment required\n",
    "\n",
    "- Python (>= 3.5)\n",
    "- NumPy (>= 1.11.0)\n",
    "- SciPy (>= 0.17.0)\n",
    "- joblib (>= 0.11)\n",
    "\n",
    "- For Light gbm VC runtime is needed if Visual Studio (2015 or newer) is not installed.Available in below link\n",
    "https://support.microsoft.com/en-us/help/2977003/the-latest-supported-visual-c-downloads\n",
    "\n",
    "- 32-bit Python is not supported by light gbm and catboost. Please install 64-bit version."
   ]
  },
  {
   "cell_type": "markdown",
   "metadata": {},
   "source": [
    "## Libraries"
   ]
  },
  {
   "cell_type": "markdown",
   "metadata": {},
   "source": [
    "Install the below libraries if not yet installed"
   ]
  },
  {
   "cell_type": "code",
   "execution_count": 116,
   "metadata": {
    "scrolled": true
   },
   "outputs": [],
   "source": [
    "#pip install -U numpy scipy matplotlib ipython jupyter pandas sympy nose\n",
    "#pip install -U seaborn\n",
    "#pip install -U scikit-learn\n",
    "#pip install -U langdetect\n",
    "#pip install -U geopy\n",
    "#pip install -U textblob\n",
    "#pip install -U catboost\n",
    "#pip install -U lightgbm\n",
    "#pip install -U xgboost"
   ]
  },
  {
   "cell_type": "code",
   "execution_count": 327,
   "metadata": {},
   "outputs": [],
   "source": [
    "#import libraries\n",
    "import time\n",
    "from datetime import datetime\n",
    "import os\n",
    "import pandas as pd\n",
    "import numpy as np\n",
    "import random\n",
    "from collections import Counter\n",
    "\n",
    "import matplotlib\n",
    "import matplotlib.pyplot as plt\n",
    "plt.style.use('seaborn')\n",
    "plt.rcParams.update({'figure.max_open_warning': 0})\n",
    "import seaborn as sns\n",
    "sns.set_style('whitegrid')\n",
    "\n",
    "from catboost import CatBoostRegressor\n",
    "import lightgbm as lgb\n",
    "import xgboost as xgb\n",
    "from sklearn.preprocessing import StandardScaler\n",
    "from sklearn.model_selection import GridSearchCV\n",
    "from sklearn.ensemble import AdaBoostRegressor\n",
    "from sklearn.linear_model import SGDRegressor\n",
    "from sklearn.pipeline import Pipeline\n",
    "\n",
    "import re\n",
    "from sklearn.feature_extraction.text import TfidfVectorizer\n",
    "from surprise import SVD\n",
    "from langdetect import detect # python language detection\n",
    "import nltk\n",
    "from textblob import TextBlob\n",
    "from scipy import sparse\n",
    "from scipy.sparse import csr_matrix\n",
    "\n",
    "from geopy.distance import great_circle"
   ]
  },
  {
   "cell_type": "markdown",
   "metadata": {},
   "source": [
    "## Execution note:\n",
    "\n",
    "To execute all cells it may take around 30 minutes.To just run the models follow below steps\n",
    "\n",
    "Run all the cells for the first time . From then on, run only below cells\n",
    "\n",
    "- Load merge data\n",
    "- Split data into train and test\n",
    "- Then directly go to \"Machine learning models\" section\n",
    "- Run all the proceeding cells\n",
    "\n",
    "This will only take few minutes "
   ]
  },
  {
   "cell_type": "markdown",
   "metadata": {},
   "source": [
    "## Directory path"
   ]
  },
  {
   "cell_type": "markdown",
   "metadata": {},
   "source": [
    "Set the directory path where listings and reviews files are located\n",
    "\n",
    "Create following folders in the corresponding directory\n",
    "\n",
    "- saved_csv\n",
    "- pickels\n",
    "- result"
   ]
  },
  {
   "cell_type": "code",
   "execution_count": 328,
   "metadata": {},
   "outputs": [],
   "source": [
    "#Set the path of the Data set for easy access\n",
    "dir_path = r\"D:\\Project\\hybrid hotel recommendation system\\data_set\\berlin_airbnb_data\""
   ]
  },
  {
   "cell_type": "markdown",
   "metadata": {},
   "source": [
    "## Load data"
   ]
  },
  {
   "cell_type": "code",
   "execution_count": 329,
   "metadata": {},
   "outputs": [],
   "source": [
    "#Detailed hotel listings\n",
    "listings_orig = pd.read_csv(os.path.join(dir_path,\"listings_summary.csv\"))\n",
    "\n",
    "#Detailed hotel reviews\n",
    "reviews_orig = pd.read_csv(os.path.join(dir_path,\"reviews_summary.csv\"))\n"
   ]
  },
  {
   "cell_type": "markdown",
   "metadata": {},
   "source": [
    "## Data preprocessing"
   ]
  },
  {
   "cell_type": "markdown",
   "metadata": {},
   "source": [
    "### Listings "
   ]
  },
  {
   "cell_type": "code",
   "execution_count": 330,
   "metadata": {},
   "outputs": [
    {
     "name": "stdout",
     "output_type": "stream",
     "text": [
      "The dataset has 22552 rows and 96 columns.\n",
      "It contains 0 duplicates.\n"
     ]
    }
   ],
   "source": [
    "# checking shape\n",
    "print(\"The dataset has {} rows and {} columns.\".format(*listings_orig.shape))\n",
    "\n",
    "# ... and duplicates\n",
    "print(\"It contains {} duplicates.\".format(listings_orig.duplicated().sum()))"
   ]
  },
  {
   "cell_type": "markdown",
   "metadata": {},
   "source": [
    "#### Deciding which columns to work with"
   ]
  },
  {
   "cell_type": "code",
   "execution_count": 331,
   "metadata": {},
   "outputs": [],
   "source": [
    "# define the columns we want to keep\n",
    "columns_to_keep = ['id','name', 'space', 'description', 'neighbourhood_group_cleansed', \n",
    "                   'latitude', 'longitude', 'property_type', 'room_type', 'accommodates', 'bathrooms',  \n",
    "                   'bedrooms', 'bed_type', 'amenities', 'square_feet', 'price', 'cleaning_fee', \n",
    "                   'security_deposit', 'extra_people', 'guests_included', 'minimum_nights',  \n",
    "                   'instant_bookable', 'is_business_travel_ready', 'cancellation_policy','host_is_superhost','number_of_reviews']"
   ]
  },
  {
   "cell_type": "code",
   "execution_count": 332,
   "metadata": {},
   "outputs": [
    {
     "name": "stdout",
     "output_type": "stream",
     "text": [
      "The dataset has 22552 rows and 26 columns - after dropping irrelevant columns.\n"
     ]
    }
   ],
   "source": [
    "# It is used to skip the warning ''SettingWithCopyWarning''.. \n",
    "pd.options.mode.chained_assignment = None  # default='warn'\n",
    "\n",
    "listings_df = listings_orig[columns_to_keep]\n",
    "listings_df.rename(columns={'id':'listing_id'}, inplace=True)\n",
    "print(\"The dataset has {} rows and {} columns - after dropping irrelevant columns.\".format(*listings_df.shape))"
   ]
  },
  {
   "cell_type": "markdown",
   "metadata": {},
   "source": [
    "#### Cleaning Price Columns"
   ]
  },
  {
   "cell_type": "code",
   "execution_count": 333,
   "metadata": {},
   "outputs": [
    {
     "name": "stdout",
     "output_type": "stream",
     "text": [
      "0\n",
      "7146\n",
      "9361\n",
      "0\n"
     ]
    }
   ],
   "source": [
    "#check NaN\n",
    "print(listings_df.price.isna().sum())\n",
    "print(listings_df.cleaning_fee.isna().sum())\n",
    "print(listings_df.security_deposit.isna().sum())\n",
    "print(listings_df.extra_people.isna().sum())"
   ]
  },
  {
   "cell_type": "code",
   "execution_count": 334,
   "metadata": {},
   "outputs": [],
   "source": [
    "#fill NaN for cleaning fee and security deposit\n",
    "listings_df.cleaning_fee.fillna('$0.00', inplace=True)\n",
    "listings_df.security_deposit.fillna('$0.00', inplace=True)"
   ]
  },
  {
   "cell_type": "code",
   "execution_count": 335,
   "metadata": {},
   "outputs": [],
   "source": [
    "# clean up the columns (by method chaining)\n",
    "listings_df.price = listings_df.price.str.replace('$', '').str.replace(',', '').astype(float)\n",
    "listings_df.cleaning_fee = listings_df.cleaning_fee.str.replace('$', '').str.replace(',', '').astype(float)\n",
    "listings_df.security_deposit = listings_df.security_deposit.str.replace('$', '').str.replace(',', '').astype(float)\n",
    "listings_df.extra_people = listings_df.extra_people.str.replace('$', '').str.replace(',', '').astype(float)"
   ]
  },
  {
   "cell_type": "markdown",
   "metadata": {},
   "source": [
    "#### Investigate price"
   ]
  },
  {
   "cell_type": "code",
   "execution_count": 336,
   "metadata": {},
   "outputs": [
    {
     "data": {
      "text/plain": [
       "count    22552.000000\n",
       "mean        67.143668\n",
       "std        220.266210\n",
       "min          0.000000\n",
       "25%         30.000000\n",
       "50%         45.000000\n",
       "75%         70.000000\n",
       "max       9000.000000\n",
       "Name: price, dtype: float64"
      ]
     },
     "execution_count": 336,
     "metadata": {},
     "output_type": "execute_result"
    }
   ],
   "source": [
    "listings_df.price.describe()"
   ]
  },
  {
   "cell_type": "code",
   "execution_count": 337,
   "metadata": {},
   "outputs": [
    {
     "data": {
      "image/png": "[encoded data removed]",
      "text/plain": [
       "<Figure size 1152x144 with 1 Axes>"
      ]
     },
     "metadata": {},
     "output_type": "display_data"
    }
   ],
   "source": [
    "red_square = dict(markerfacecolor='r', markeredgecolor='r', marker='.')\n",
    "listings_df['price'].plot(kind='box', xlim=(0, 1000), vert=False, flierprops=red_square, figsize=(16,2));"
   ]
  },
  {
   "cell_type": "markdown",
   "metadata": {},
   "source": [
    "75% of the apartments charge up to 68 - but the maximum value is 9000. Let's decide on a limit of 400, after which the outliers seem to \"fringe\", and drop all records that charge more than that. Oddly enough, we have prices set to zero. So let's drop those records, too:"
   ]
  },
  {
   "cell_type": "code",
   "execution_count": 338,
   "metadata": {},
   "outputs": [],
   "source": [
    "listings_df.drop(listings_df[ (listings_df.price > 400) | (listings_df.price == 0) ].index, axis=0, inplace=True)"
   ]
  },
  {
   "cell_type": "code",
   "execution_count": 339,
   "metadata": {},
   "outputs": [
    {
     "data": {
      "text/plain": [
       "count    22441.000000\n",
       "mean        57.584377\n",
       "std         42.162006\n",
       "min          1.000000\n",
       "25%         30.000000\n",
       "50%         45.000000\n",
       "75%         70.000000\n",
       "max        400.000000\n",
       "Name: price, dtype: float64"
      ]
     },
     "execution_count": 339,
     "metadata": {},
     "output_type": "execute_result"
    }
   ],
   "source": [
    "listings_df['price'].describe()"
   ]
  },
  {
   "cell_type": "code",
   "execution_count": 340,
   "metadata": {},
   "outputs": [
    {
     "name": "stdout",
     "output_type": "stream",
     "text": [
      "The dataset has 22441 rows and 26 columns - after being price-wise preprocessed.\n"
     ]
    }
   ],
   "source": [
    "print(\"The dataset has {} rows and {} columns - after being price-wise preprocessed.\".format(*listings_df.shape))"
   ]
  },
  {
   "cell_type": "markdown",
   "metadata": {},
   "source": [
    "#### Dealing with Missing Values"
   ]
  },
  {
   "cell_type": "code",
   "execution_count": 341,
   "metadata": {},
   "outputs": [
    {
     "data": {
      "text/plain": [
       "listing_id                          0\n",
       "name                               58\n",
       "space                            8503\n",
       "description                       202\n",
       "neighbourhood_group_cleansed        0\n",
       "latitude                            0\n",
       "longitude                           0\n",
       "property_type                       0\n",
       "room_type                           0\n",
       "accommodates                        0\n",
       "bathrooms                          32\n",
       "bedrooms                           18\n",
       "bed_type                            0\n",
       "amenities                           0\n",
       "square_feet                     21996\n",
       "price                               0\n",
       "cleaning_fee                        0\n",
       "security_deposit                    0\n",
       "extra_people                        0\n",
       "guests_included                     0\n",
       "minimum_nights                      0\n",
       "instant_bookable                    0\n",
       "is_business_travel_ready            0\n",
       "cancellation_policy                 0\n",
       "host_is_superhost                  25\n",
       "number_of_reviews                   0\n",
       "dtype: int64"
      ]
     },
     "execution_count": 341,
     "metadata": {},
     "output_type": "execute_result"
    }
   ],
   "source": [
    "listings_df.isna().sum()"
   ]
  },
  {
   "cell_type": "code",
   "execution_count": 342,
   "metadata": {},
   "outputs": [],
   "source": [
    "# drop columns with too many Nan's\n",
    "listings_df.drop(columns=['square_feet', 'space','description'], inplace=True)"
   ]
  },
  {
   "cell_type": "code",
   "execution_count": 343,
   "metadata": {},
   "outputs": [],
   "source": [
    "# drop rows with NaN's in bathrooms and bedrooms\n",
    "listings_df.dropna(subset=['bathrooms', 'bedrooms'], inplace=True)"
   ]
  },
  {
   "cell_type": "code",
   "execution_count": 344,
   "metadata": {},
   "outputs": [],
   "source": [
    "listings_df.host_is_superhost.fillna('f', inplace = True)"
   ]
  },
  {
   "cell_type": "code",
   "execution_count": 345,
   "metadata": {},
   "outputs": [
    {
     "data": {
      "text/plain": [
       "listing_id                       0\n",
       "name                            57\n",
       "neighbourhood_group_cleansed     0\n",
       "latitude                         0\n",
       "longitude                        0\n",
       "property_type                    0\n",
       "room_type                        0\n",
       "accommodates                     0\n",
       "bathrooms                        0\n",
       "bedrooms                         0\n",
       "bed_type                         0\n",
       "amenities                        0\n",
       "price                            0\n",
       "cleaning_fee                     0\n",
       "security_deposit                 0\n",
       "extra_people                     0\n",
       "guests_included                  0\n",
       "minimum_nights                   0\n",
       "instant_bookable                 0\n",
       "is_business_travel_ready         0\n",
       "cancellation_policy              0\n",
       "host_is_superhost                0\n",
       "number_of_reviews                0\n",
       "dtype: int64"
      ]
     },
     "execution_count": 345,
     "metadata": {},
     "output_type": "execute_result"
    }
   ],
   "source": [
    "listings_df.isna().sum()"
   ]
  },
  {
   "cell_type": "code",
   "execution_count": 346,
   "metadata": {},
   "outputs": [
    {
     "name": "stdout",
     "output_type": "stream",
     "text": [
      "The dataset has 22391 rows and 23 columns - after having dealt with missing values.\n"
     ]
    }
   ],
   "source": [
    "print(\"The dataset has {} rows and {} columns - after having dealt with missing values.\".format(*listings_df.shape))"
   ]
  },
  {
   "cell_type": "markdown",
   "metadata": {},
   "source": [
    "#### Feature engineering"
   ]
  },
  {
   "cell_type": "markdown",
   "metadata": {},
   "source": [
    "Feature Engineering 1: Distance to Centroid of Berlin"
   ]
  },
  {
   "cell_type": "markdown",
   "metadata": {},
   "source": [
    "calculate each accommodation's distance to the so-called centroid of Berlin instead of just relying on the neighbourhoods or areas."
   ]
  },
  {
   "cell_type": "code",
   "execution_count": 347,
   "metadata": {},
   "outputs": [],
   "source": [
    "def distance_to_mid(lat, lon):\n",
    "    berlin_centre = (52.5027778, 13.404166666666667)\n",
    "    accommodation = (lat, lon)\n",
    "    return great_circle(berlin_centre, accommodation).km"
   ]
  },
  {
   "cell_type": "code",
   "execution_count": 348,
   "metadata": {},
   "outputs": [],
   "source": [
    "listings_df['distance'] = listings_df.apply(lambda x: distance_to_mid(x.latitude, x.longitude), axis=1)"
   ]
  },
  {
   "cell_type": "code",
   "execution_count": 349,
   "metadata": {},
   "outputs": [
    {
     "data": {
      "text/html": [
       "<div>\n",
       "<style scoped>\n",
       "    .dataframe tbody tr th:only-of-type {\n",
       "        vertical-align: middle;\n",
       "    }\n",
       "\n",
       "    .dataframe tbody tr th {\n",
       "        vertical-align: top;\n",
       "    }\n",
       "\n",
       "    .dataframe thead th {\n",
       "        text-align: right;\n",
       "    }\n",
       "</style>\n",
       "<table border=\"1\" class=\"dataframe\">\n",
       "  <thead>\n",
       "    <tr style=\"text-align: right;\">\n",
       "      <th></th>\n",
       "      <th>listing_id</th>\n",
       "      <th>name</th>\n",
       "      <th>neighbourhood_group_cleansed</th>\n",
       "      <th>latitude</th>\n",
       "      <th>longitude</th>\n",
       "      <th>property_type</th>\n",
       "      <th>room_type</th>\n",
       "      <th>accommodates</th>\n",
       "      <th>bathrooms</th>\n",
       "      <th>bedrooms</th>\n",
       "      <th>...</th>\n",
       "      <th>security_deposit</th>\n",
       "      <th>extra_people</th>\n",
       "      <th>guests_included</th>\n",
       "      <th>minimum_nights</th>\n",
       "      <th>instant_bookable</th>\n",
       "      <th>is_business_travel_ready</th>\n",
       "      <th>cancellation_policy</th>\n",
       "      <th>host_is_superhost</th>\n",
       "      <th>number_of_reviews</th>\n",
       "      <th>distance</th>\n",
       "    </tr>\n",
       "  </thead>\n",
       "  <tbody>\n",
       "    <tr>\n",
       "      <th>0</th>\n",
       "      <td>2015</td>\n",
       "      <td>Berlin-Mitte Value! Quiet courtyard/very central</td>\n",
       "      <td>Mitte</td>\n",
       "      <td>52.534537</td>\n",
       "      <td>13.402557</td>\n",
       "      <td>Guesthouse</td>\n",
       "      <td>Entire home/apt</td>\n",
       "      <td>3</td>\n",
       "      <td>1.0</td>\n",
       "      <td>1.0</td>\n",
       "      <td>...</td>\n",
       "      <td>200.0</td>\n",
       "      <td>28.0</td>\n",
       "      <td>1</td>\n",
       "      <td>4</td>\n",
       "      <td>f</td>\n",
       "      <td>f</td>\n",
       "      <td>strict_14_with_grace_period</td>\n",
       "      <td>t</td>\n",
       "      <td>118</td>\n",
       "      <td>3.533182</td>\n",
       "    </tr>\n",
       "    <tr>\n",
       "      <th>1</th>\n",
       "      <td>2695</td>\n",
       "      <td>Prenzlauer Berg close to Mauerpark</td>\n",
       "      <td>Pankow</td>\n",
       "      <td>52.548513</td>\n",
       "      <td>13.404553</td>\n",
       "      <td>Apartment</td>\n",
       "      <td>Private room</td>\n",
       "      <td>2</td>\n",
       "      <td>1.0</td>\n",
       "      <td>1.0</td>\n",
       "      <td>...</td>\n",
       "      <td>0.0</td>\n",
       "      <td>0.0</td>\n",
       "      <td>1</td>\n",
       "      <td>2</td>\n",
       "      <td>f</td>\n",
       "      <td>f</td>\n",
       "      <td>flexible</td>\n",
       "      <td>f</td>\n",
       "      <td>6</td>\n",
       "      <td>5.085573</td>\n",
       "    </tr>\n",
       "  </tbody>\n",
       "</table>\n",
       "<p>2 rows × 24 columns</p>\n",
       "</div>"
      ],
      "text/plain": [
       "   listing_id                                              name  \\\n",
       "0        2015  Berlin-Mitte Value! Quiet courtyard/very central   \n",
       "1        2695                Prenzlauer Berg close to Mauerpark   \n",
       "\n",
       "  neighbourhood_group_cleansed   latitude  longitude property_type  \\\n",
       "0                        Mitte  52.534537  13.402557    Guesthouse   \n",
       "1                       Pankow  52.548513  13.404553     Apartment   \n",
       "\n",
       "         room_type  accommodates  bathrooms  bedrooms  ... security_deposit  \\\n",
       "0  Entire home/apt             3        1.0       1.0  ...            200.0   \n",
       "1     Private room             2        1.0       1.0  ...              0.0   \n",
       "\n",
       "  extra_people  guests_included  minimum_nights  instant_bookable  \\\n",
       "0         28.0                1               4                 f   \n",
       "1          0.0                1               2                 f   \n",
       "\n",
       "   is_business_travel_ready          cancellation_policy  host_is_superhost  \\\n",
       "0                         f  strict_14_with_grace_period                  t   \n",
       "1                         f                     flexible                  f   \n",
       "\n",
       "  number_of_reviews  distance  \n",
       "0               118  3.533182  \n",
       "1                 6  5.085573  \n",
       "\n",
       "[2 rows x 24 columns]"
      ]
     },
     "execution_count": 349,
     "metadata": {},
     "output_type": "execute_result"
    }
   ],
   "source": [
    "listings_df.head(2)"
   ]
  },
  {
   "cell_type": "markdown",
   "metadata": {},
   "source": [
    "Feature Engineering 2: Lodging Amenities"
   ]
  },
  {
   "cell_type": "code",
   "execution_count": 350,
   "metadata": {},
   "outputs": [
    {
     "data": {
      "text/plain": [
       "[('Wifi', 21372),\n",
       " ('Kitchen', 21216),\n",
       " ('Heating', 21073),\n",
       " ('Essentials', 20211),\n",
       " ('Washer', 18395),\n",
       " ('Hair dryer', 14793),\n",
       " ('Laptop friendly workspace', 14374),\n",
       " ('Hangers', 13814),\n",
       " ('Iron', 11121),\n",
       " ('Shampoo', 10572)]"
      ]
     },
     "execution_count": 350,
     "metadata": {},
     "output_type": "execute_result"
    }
   ],
   "source": [
    "results = Counter()\n",
    "listings_df['amenities'].str.strip('{}')\\\n",
    "               .str.replace('\"', '')\\\n",
    "               .str.lstrip('\\\"')\\\n",
    "               .str.rstrip('\\\"')\\\n",
    "               .str.split(',')\\\n",
    "               .apply(results.update)\n",
    "results.most_common(10)"
   ]
  },
  {
   "cell_type": "code",
   "execution_count": 351,
   "metadata": {},
   "outputs": [
    {
     "data": {
      "image/png": "[encoded data removed]",
      "text/plain": [
       "<Figure size 720x504 with 1 Axes>"
      ]
     },
     "metadata": {},
     "output_type": "display_data"
    }
   ],
   "source": [
    "# create a new dataframe\n",
    "sub_df = pd.DataFrame(results.most_common(30), columns=['amenity', 'count'])\n",
    "# plot the Top 20\n",
    "sub_df.sort_values(by=['count'], ascending=True).plot(kind='barh', x='amenity', y='count',  \n",
    "                                                      figsize=(10,7), legend=False, color='darkgrey',\n",
    "                                                      title='Amenities')\n",
    "plt.xlabel('Count');"
   ]
  },
  {
   "cell_type": "markdown",
   "metadata": {},
   "source": [
    "Let's add columns with amenities that are somewhat unique and not offered by all hosts:\n",
    "\n",
    "- a laptop-friendly workspace\n",
    "- a TV\n",
    "- kid friendly accommodation\n",
    "- smoker friendly and\n",
    "- being greeted by the host"
   ]
  },
  {
   "cell_type": "code",
   "execution_count": 352,
   "metadata": {},
   "outputs": [],
   "source": [
    "listings_df['Laptop_friendly_workspace'] = listings_df['amenities'].str.contains('Laptop friendly workspace')\n",
    "listings_df['TV'] = listings_df['amenities'].str.contains('TV')\n",
    "listings_df['Family_kid_friendly'] = listings_df['amenities'].str.contains('Family/kid friendly')\n",
    "listings_df['Host_greets_you'] = listings_df['amenities'].str.contains('Host greets you')\n",
    "listings_df['Smoking_allowed'] = listings_df['amenities'].str.contains('Smoking allowed')\n",
    "\n",
    "#Drop amenities\n",
    "listings_df.drop(['amenities'], axis=1, inplace=True)"
   ]
  },
  {
   "cell_type": "markdown",
   "metadata": {},
   "source": [
    "Drop unuseful columns"
   ]
  },
  {
   "cell_type": "code",
   "execution_count": 353,
   "metadata": {},
   "outputs": [],
   "source": [
    "listings_df.drop(['latitude', 'longitude', 'neighbourhood_group_cleansed', 'property_type'], axis=1, inplace=True)"
   ]
  },
  {
   "cell_type": "markdown",
   "metadata": {},
   "source": [
    "Now let's convert all string columns into categorical ones:"
   ]
  },
  {
   "cell_type": "code",
   "execution_count": 354,
   "metadata": {},
   "outputs": [],
   "source": [
    "for col in ['host_is_superhost','room_type', 'bed_type', 'instant_bookable', \n",
    "            'is_business_travel_ready', 'cancellation_policy']:\n",
    "    listings_df[col] = listings_df[col].astype('category')"
   ]
  },
  {
   "cell_type": "code",
   "execution_count": 355,
   "metadata": {},
   "outputs": [],
   "source": [
    "num_feats = listings_df.select_dtypes(include=['float64', 'int64', 'bool']).copy()\n",
    "\n",
    "keep_feats = listings_df[['name']]\n",
    "# one-hot encoding of categorical features\n",
    "cat_feats = listings_df.select_dtypes(include=['category']).copy()\n",
    "cat_feats = pd.get_dummies(cat_feats)"
   ]
  },
  {
   "cell_type": "code",
   "execution_count": 356,
   "metadata": {},
   "outputs": [],
   "source": [
    "listings_df = pd.concat([keep_feats,num_feats, cat_feats], axis=1)"
   ]
  },
  {
   "cell_type": "code",
   "execution_count": 357,
   "metadata": {},
   "outputs": [
    {
     "data": {
      "text/html": [
       "<div>\n",
       "<style scoped>\n",
       "    .dataframe tbody tr th:only-of-type {\n",
       "        vertical-align: middle;\n",
       "    }\n",
       "\n",
       "    .dataframe tbody tr th {\n",
       "        vertical-align: top;\n",
       "    }\n",
       "\n",
       "    .dataframe thead th {\n",
       "        text-align: right;\n",
       "    }\n",
       "</style>\n",
       "<table border=\"1\" class=\"dataframe\">\n",
       "  <thead>\n",
       "    <tr style=\"text-align: right;\">\n",
       "      <th></th>\n",
       "      <th>name</th>\n",
       "      <th>listing_id</th>\n",
       "      <th>accommodates</th>\n",
       "      <th>bathrooms</th>\n",
       "      <th>bedrooms</th>\n",
       "      <th>price</th>\n",
       "      <th>cleaning_fee</th>\n",
       "      <th>security_deposit</th>\n",
       "      <th>extra_people</th>\n",
       "      <th>guests_included</th>\n",
       "      <th>...</th>\n",
       "      <th>instant_bookable_f</th>\n",
       "      <th>instant_bookable_t</th>\n",
       "      <th>is_business_travel_ready_f</th>\n",
       "      <th>cancellation_policy_flexible</th>\n",
       "      <th>cancellation_policy_moderate</th>\n",
       "      <th>cancellation_policy_strict_14_with_grace_period</th>\n",
       "      <th>cancellation_policy_super_strict_30</th>\n",
       "      <th>cancellation_policy_super_strict_60</th>\n",
       "      <th>host_is_superhost_f</th>\n",
       "      <th>host_is_superhost_t</th>\n",
       "    </tr>\n",
       "  </thead>\n",
       "  <tbody>\n",
       "    <tr>\n",
       "      <th>0</th>\n",
       "      <td>Berlin-Mitte Value! Quiet courtyard/very central</td>\n",
       "      <td>2015</td>\n",
       "      <td>3</td>\n",
       "      <td>1.0</td>\n",
       "      <td>1.0</td>\n",
       "      <td>60.0</td>\n",
       "      <td>30.0</td>\n",
       "      <td>200.0</td>\n",
       "      <td>28.0</td>\n",
       "      <td>1</td>\n",
       "      <td>...</td>\n",
       "      <td>1</td>\n",
       "      <td>0</td>\n",
       "      <td>1</td>\n",
       "      <td>0</td>\n",
       "      <td>0</td>\n",
       "      <td>1</td>\n",
       "      <td>0</td>\n",
       "      <td>0</td>\n",
       "      <td>0</td>\n",
       "      <td>1</td>\n",
       "    </tr>\n",
       "    <tr>\n",
       "      <th>1</th>\n",
       "      <td>Prenzlauer Berg close to Mauerpark</td>\n",
       "      <td>2695</td>\n",
       "      <td>2</td>\n",
       "      <td>1.0</td>\n",
       "      <td>1.0</td>\n",
       "      <td>17.0</td>\n",
       "      <td>0.0</td>\n",
       "      <td>0.0</td>\n",
       "      <td>0.0</td>\n",
       "      <td>1</td>\n",
       "      <td>...</td>\n",
       "      <td>1</td>\n",
       "      <td>0</td>\n",
       "      <td>1</td>\n",
       "      <td>1</td>\n",
       "      <td>0</td>\n",
       "      <td>0</td>\n",
       "      <td>0</td>\n",
       "      <td>0</td>\n",
       "      <td>1</td>\n",
       "      <td>0</td>\n",
       "    </tr>\n",
       "  </tbody>\n",
       "</table>\n",
       "<p>2 rows × 36 columns</p>\n",
       "</div>"
      ],
      "text/plain": [
       "                                               name  listing_id  accommodates  \\\n",
       "0  Berlin-Mitte Value! Quiet courtyard/very central        2015             3   \n",
       "1                Prenzlauer Berg close to Mauerpark        2695             2   \n",
       "\n",
       "   bathrooms  bedrooms  price  cleaning_fee  security_deposit  extra_people  \\\n",
       "0        1.0       1.0   60.0          30.0             200.0          28.0   \n",
       "1        1.0       1.0   17.0           0.0               0.0           0.0   \n",
       "\n",
       "   guests_included  ...  instant_bookable_f  instant_bookable_t  \\\n",
       "0                1  ...                   1                   0   \n",
       "1                1  ...                   1                   0   \n",
       "\n",
       "   is_business_travel_ready_f  cancellation_policy_flexible  \\\n",
       "0                           1                             0   \n",
       "1                           1                             1   \n",
       "\n",
       "   cancellation_policy_moderate  \\\n",
       "0                             0   \n",
       "1                             0   \n",
       "\n",
       "   cancellation_policy_strict_14_with_grace_period  \\\n",
       "0                                                1   \n",
       "1                                                0   \n",
       "\n",
       "   cancellation_policy_super_strict_30  cancellation_policy_super_strict_60  \\\n",
       "0                                    0                                    0   \n",
       "1                                    0                                    0   \n",
       "\n",
       "   host_is_superhost_f  host_is_superhost_t  \n",
       "0                    0                    1  \n",
       "1                    1                    0  \n",
       "\n",
       "[2 rows x 36 columns]"
      ]
     },
     "execution_count": 357,
     "metadata": {},
     "output_type": "execute_result"
    }
   ],
   "source": [
    "listings_df.head(2)"
   ]
  },
  {
   "cell_type": "markdown",
   "metadata": {},
   "source": [
    "Save the finalised listings dataframe to a pickle file in order to avoid the long runtime"
   ]
  },
  {
   "cell_type": "code",
   "execution_count": 358,
   "metadata": {},
   "outputs": [],
   "source": [
    "#Run for the first time and then comment the below 2 lines \n",
    "listings_df.to_csv(os.path.join(dir_path,\"saved_csv/listings_df.csv\"))\n",
    "listings_df.to_pickle(os.path.join(dir_path,\"pickels/listings_df\"))\n",
    "\n",
    "#Load from pickle\n",
    "listings_df = pd.read_pickle(os.path.join(dir_path,\"pickels/listings_df\"))"
   ]
  },
  {
   "cell_type": "markdown",
   "metadata": {},
   "source": [
    "### Reviews"
   ]
  },
  {
   "cell_type": "code",
   "execution_count": 359,
   "metadata": {},
   "outputs": [],
   "source": [
    "#Columns to keep\n",
    "col_keep = ['listing_id','reviewer_id','reviewer_name','date','comments']"
   ]
  },
  {
   "cell_type": "code",
   "execution_count": 360,
   "metadata": {},
   "outputs": [],
   "source": [
    "reviews_df = reviews_orig [col_keep]"
   ]
  },
  {
   "cell_type": "code",
   "execution_count": 361,
   "metadata": {},
   "outputs": [
    {
     "name": "stdout",
     "output_type": "stream",
     "text": [
      "The dataset has 401963 rows and 5 columns - after dropping irrelevant columns.\n"
     ]
    }
   ],
   "source": [
    "# checking shape\n",
    "print(\"The dataset has {} rows and {} columns - after dropping irrelevant columns.\".format(*reviews_df.shape))"
   ]
  },
  {
   "cell_type": "markdown",
   "metadata": {},
   "source": [
    "#### Dealing with Missing Values"
   ]
  },
  {
   "cell_type": "code",
   "execution_count": 362,
   "metadata": {},
   "outputs": [
    {
     "name": "stdout",
     "output_type": "stream",
     "text": [
      "listing_id         0\n",
      "reviewer_id        0\n",
      "reviewer_name      0\n",
      "date               0\n",
      "comments         496\n",
      "dtype: int64\n"
     ]
    }
   ],
   "source": [
    "print(reviews_df.isna().sum())"
   ]
  },
  {
   "cell_type": "code",
   "execution_count": 363,
   "metadata": {},
   "outputs": [
    {
     "name": "stdout",
     "output_type": "stream",
     "text": [
      "The dataset has 401963 rows and 5 columns.\n"
     ]
    }
   ],
   "source": [
    "reviews_df['comments'] =  reviews_df['comments'].fillna('')\n",
    "\n",
    "print(\"The dataset has {} rows and {} columns.\".format(*reviews_df.shape))"
   ]
  },
  {
   "cell_type": "code",
   "execution_count": 364,
   "metadata": {},
   "outputs": [
    {
     "name": "stdout",
     "output_type": "stream",
     "text": [
      "listing_id       0\n",
      "reviewer_id      0\n",
      "reviewer_name    0\n",
      "date             0\n",
      "comments         0\n",
      "dtype: int64\n"
     ]
    }
   ],
   "source": [
    "print(reviews_df.isna().sum())"
   ]
  },
  {
   "cell_type": "markdown",
   "metadata": {},
   "source": [
    "#### Language Detection"
   ]
  },
  {
   "cell_type": "markdown",
   "metadata": {},
   "source": [
    "Language detection takes around 20-25 mins of run time. Run only when necessary"
   ]
  },
  {
   "cell_type": "code",
   "execution_count": 365,
   "metadata": {},
   "outputs": [],
   "source": [
    "#function that detects the language\n",
    "def language_detection(text):\n",
    "    try:\n",
    "        return detect(text)\n",
    "    except:\n",
    "        return None"
   ]
  },
  {
   "cell_type": "code",
   "execution_count": 366,
   "metadata": {},
   "outputs": [
    {
     "name": "stdout",
     "output_type": "stream",
     "text": [
      "Wall time: 22min 50s\n"
     ]
    }
   ],
   "source": [
    "%%time\n",
    "reviews_df['language'] = reviews_df['comments'].apply(language_detection)\n"
   ]
  },
  {
   "cell_type": "markdown",
   "metadata": {},
   "source": [
    "Save the reviews data frame after language detection to a pickle file in order to avoid the long runtime"
   ]
  },
  {
   "cell_type": "code",
   "execution_count": 370,
   "metadata": {},
   "outputs": [],
   "source": [
    "#write the dataframe to a pickle file in order to avoid the long runtime\n",
    "reviews_df.to_csv(os.path.join(dir_path,\"saved_csv/review_data_lang_detect.csv\"))\n",
    "reviews_df.to_pickle(os.path.join(dir_path,\"pickels/review_data_lang_detect\"))\n",
    "\n",
    "#Load from pickle\n",
    "reviews_df = pd.read_pickle(os.path.join(dir_path,\"pickels/review_data_lang_detect\"))"
   ]
  },
  {
   "cell_type": "code",
   "execution_count": 371,
   "metadata": {},
   "outputs": [
    {
     "data": {
      "text/html": [
       "<div>\n",
       "<style scoped>\n",
       "    .dataframe tbody tr th:only-of-type {\n",
       "        vertical-align: middle;\n",
       "    }\n",
       "\n",
       "    .dataframe tbody tr th {\n",
       "        vertical-align: top;\n",
       "    }\n",
       "\n",
       "    .dataframe thead th {\n",
       "        text-align: right;\n",
       "    }\n",
       "</style>\n",
       "<table border=\"1\" class=\"dataframe\">\n",
       "  <thead>\n",
       "    <tr style=\"text-align: right;\">\n",
       "      <th></th>\n",
       "      <th>listing_id</th>\n",
       "      <th>reviewer_id</th>\n",
       "      <th>reviewer_name</th>\n",
       "      <th>date</th>\n",
       "      <th>comments</th>\n",
       "      <th>language</th>\n",
       "    </tr>\n",
       "  </thead>\n",
       "  <tbody>\n",
       "    <tr>\n",
       "      <th>0</th>\n",
       "      <td>2015</td>\n",
       "      <td>7178145</td>\n",
       "      <td>Rahel</td>\n",
       "      <td>2016-04-11</td>\n",
       "      <td>Mein Freund und ich hatten gute gemütliche vie...</td>\n",
       "      <td>de</td>\n",
       "    </tr>\n",
       "    <tr>\n",
       "      <th>1</th>\n",
       "      <td>2015</td>\n",
       "      <td>41944715</td>\n",
       "      <td>Hannah</td>\n",
       "      <td>2016-04-15</td>\n",
       "      <td>Jan was very friendly and welcoming host! The ...</td>\n",
       "      <td>en</td>\n",
       "    </tr>\n",
       "    <tr>\n",
       "      <th>2</th>\n",
       "      <td>2015</td>\n",
       "      <td>30048708</td>\n",
       "      <td>Victor</td>\n",
       "      <td>2016-04-26</td>\n",
       "      <td>Un appartement tres bien situé dans un quartie...</td>\n",
       "      <td>fr</td>\n",
       "    </tr>\n",
       "    <tr>\n",
       "      <th>3</th>\n",
       "      <td>2015</td>\n",
       "      <td>63697857</td>\n",
       "      <td>Judy</td>\n",
       "      <td>2016-05-10</td>\n",
       "      <td>It is really nice area, food, park, transport ...</td>\n",
       "      <td>en</td>\n",
       "    </tr>\n",
       "    <tr>\n",
       "      <th>4</th>\n",
       "      <td>2015</td>\n",
       "      <td>10414887</td>\n",
       "      <td>Romina</td>\n",
       "      <td>2016-05-14</td>\n",
       "      <td>Buena ubicación, el departamento no está orden...</td>\n",
       "      <td>es</td>\n",
       "    </tr>\n",
       "  </tbody>\n",
       "</table>\n",
       "</div>"
      ],
      "text/plain": [
       "   listing_id  reviewer_id reviewer_name        date  \\\n",
       "0        2015      7178145         Rahel  2016-04-11   \n",
       "1        2015     41944715        Hannah  2016-04-15   \n",
       "2        2015     30048708        Victor  2016-04-26   \n",
       "3        2015     63697857          Judy  2016-05-10   \n",
       "4        2015     10414887        Romina  2016-05-14   \n",
       "\n",
       "                                            comments language  \n",
       "0  Mein Freund und ich hatten gute gemütliche vie...       de  \n",
       "1  Jan was very friendly and welcoming host! The ...       en  \n",
       "2  Un appartement tres bien situé dans un quartie...       fr  \n",
       "3  It is really nice area, food, park, transport ...       en  \n",
       "4  Buena ubicación, el departamento no está orden...       es  "
      ]
     },
     "execution_count": 371,
     "metadata": {},
     "output_type": "execute_result"
    }
   ],
   "source": [
    "#Sample review data\n",
    "reviews_df.head()"
   ]
  },
  {
   "cell_type": "code",
   "execution_count": 372,
   "metadata": {},
   "outputs": [
    {
     "data": {
      "text/plain": [
       "en    271866\n",
       "de     77154\n",
       "fr     16864\n",
       "es     12176\n",
       "it      4860\n",
       "nl      3900\n",
       "ru      2308\n",
       "ko      1634\n",
       "pt      1397\n",
       "da      1363\n",
       "Name: language, dtype: int64"
      ]
     },
     "execution_count": 372,
     "metadata": {},
     "output_type": "execute_result"
    }
   ],
   "source": [
    "#Most frequently used language in comments\n",
    "reviews_df.language.value_counts().head(10)"
   ]
  },
  {
   "cell_type": "code",
   "execution_count": 373,
   "metadata": {},
   "outputs": [
    {
     "data": {
      "image/png": "[encoded data removed]",
      "text/plain": [
       "<Figure size 648x360 with 1 Axes>"
      ]
     },
     "metadata": {},
     "output_type": "display_data"
    }
   ],
   "source": [
    "# visualizing the comments' languages\n",
    "ax = reviews_df.language.value_counts().head(6).plot(kind='barh', figsize=(9,5), color=\"lightcoral\", \n",
    "                                             fontsize=12);\n",
    "\n",
    "ax.set_title(\"\\nWhat are the most frequent languages comments are written in?\\n\", \n",
    "             fontsize=12, fontweight='bold')\n",
    "ax.set_xlabel(\" Total Number of Comments\", fontsize=10)\n",
    "ax.set_yticklabels(['English', 'German', 'French', 'Spanish', 'Italian', 'Dutch'])\n",
    "\n",
    "# create a list to collect the plt.patches data\n",
    "totals = []\n",
    "# find the ind. values and append to list\n",
    "for i in ax.patches:\n",
    "    totals.append(i.get_width())\n",
    "# get total\n",
    "total = sum(totals)\n",
    "\n",
    "# set individual bar labels using above list\n",
    "for i in ax.patches:\n",
    "    ax.text(x=i.get_width(), y=i.get_y()+.35, \n",
    "            s=str(round((i.get_width()/total)*100, 2))+'%', \n",
    "            fontsize=10, color='black')\n",
    "\n",
    "# invert for largest on top \n",
    "ax.invert_yaxis()"
   ]
  },
  {
   "cell_type": "code",
   "execution_count": 384,
   "metadata": {},
   "outputs": [],
   "source": [
    "# Select english only as it covers\n",
    "reviews_eng = reviews_df[(reviews_df['language']=='en')]\n",
    "reviews_de  = reviews_df[(reviews_df['language']=='de')]\n",
    "reviews_fr  = reviews_df[(reviews_df['language']=='fr')]"
   ]
  },
  {
   "cell_type": "markdown",
   "metadata": {},
   "source": [
    "#### Calucalte sentimental scores</h4>"
   ]
  },
  {
   "cell_type": "markdown",
   "metadata": {},
   "source": [
    "We have observed that comments that are not translated to english have performed poorly.This could be because these libraries may have been designed with english as the main language"
   ]
  },
  {
   "cell_type": "code",
   "execution_count": 385,
   "metadata": {},
   "outputs": [
    {
     "name": "stdout",
     "output_type": "stream",
     "text": [
      "Un appartement tres bien situé dans un quartier historique de l'est tres agréable, le métro est tout proche. Pas de connexion internet ni de télé mais cela nous pousse encore plus a découvrir Berlin. Jan est tres accueillant et nous a donné quelques conseils pour nos visites.\n",
      "\n",
      "Sentiment score for above comment: Sentiment(polarity=0.0, subjectivity=0.0)\n",
      "\n",
      "An apartment very well located in a historic district of the east very nice, the metro is nearby. No internet connection or TV but it pushes us even more to discover Berlin. Jan is very welcoming and gave us some tips for our tours.\n",
      "\n",
      "Sentiment score for above translated comment: Sentiment(polarity=0.33599999999999997, subjectivity=0.42000000000000004)\n"
     ]
    }
   ],
   "source": [
    "#Sample non-english comment\n",
    "print(reviews_df.comments[2])\n",
    "print()\n",
    "\n",
    "#Sentiment score\n",
    "print(\"Sentiment score for above comment:\",TextBlob(reviews_df.comments[2]).sentiment)\n",
    "\n",
    "#Translate the sentence to english\n",
    "comment_translate = TextBlob(reviews_df.comments[2]).translate(to=\"en\")\n",
    "print()\n",
    "print(comment_translate)\n",
    "\n",
    "#Calculate sentiment score for the translated comment\n",
    "print()\n",
    "print(\"Sentiment score for above translated comment:\",TextBlob(str(comment_translate)).sentiment)"
   ]
  },
  {
   "cell_type": "code",
   "execution_count": 376,
   "metadata": {},
   "outputs": [
    {
     "name": "stdout",
     "output_type": "stream",
     "text": [
      "My friend and I had\n"
     ]
    }
   ],
   "source": [
    "#Function which translates non english comments to english \n",
    "def translate_comment(comment ,lang):\n",
    "    if lang != \"en\":\n",
    "        try:\n",
    "            return str(TextBlob(comment).translate(to = \"en\"))\n",
    "        except:\n",
    "            return comment\n",
    "    else:\n",
    "        return comment\n",
    "    \n",
    "#Sample    \n",
    "translated_comment = translate_comment(\"Mein Freund und ich hatten\",\"de\")\n",
    "print(translated_comment)"
   ]
  },
  {
   "cell_type": "code",
   "execution_count": 106,
   "metadata": {},
   "outputs": [
    {
     "data": {
      "text/plain": [
       "listing_id             2015\n",
       "reviewer_id        79022747\n",
       "reviewer_name        Helena\n",
       "date             2016-08-15\n",
       "comments             great \n",
       "language                 ro\n",
       "Name: 16, dtype: object"
      ]
     },
     "execution_count": 106,
     "metadata": {},
     "output_type": "execute_result"
    }
   ],
   "source": [
    "reviews_df.iloc[16]"
   ]
  },
  {
   "cell_type": "markdown",
   "metadata": {},
   "source": [
    "Below translation requires active internet connection and many hours to execute.\n",
    "Execute only if feasible.\n",
    "\n",
    "We have currently used only english comments - reviews_eng.\n",
    "If successfully able to run the below cell then replace reviews_eng with reviews_df in proceeding cells"
   ]
  },
  {
   "cell_type": "code",
   "execution_count": null,
   "metadata": {},
   "outputs": [],
   "source": [
    "#reviews_df['comments'] = reviews_df.apply(lambda x:translate_comment(x.comments,x.language),axis =1)\n",
    "#reviews.head()"
   ]
  },
  {
   "cell_type": "markdown",
   "metadata": {},
   "source": [
    "Save the translated review dataframe to a pickle file in order to avoid the long runtime"
   ]
  },
  {
   "cell_type": "code",
   "execution_count": 44,
   "metadata": {},
   "outputs": [],
   "source": [
    "#Run for the first time and then comment the below 2 lines\n",
    "#reviews_df.to_csv(os.path.join(dir_path,\"saved_csv/review_data_translated.csv\"))\n",
    "#reviews_df.to_pickle(os.path.join(dir_path,\"pickels/review_data_translated\"))\n",
    "\n",
    "#Load from pickle\n",
    "#reviews_df = pd.read_pickle(os.path.join(dir_path,\"pickels/review_data\"))"
   ]
  },
  {
   "cell_type": "code",
   "execution_count": 386,
   "metadata": {},
   "outputs": [],
   "source": [
    "#Function which rescales from (-1,1)polarity to (1,5) rating system.\n",
    "def rate_comment(comment):\n",
    "    #[old min, old max] -> [new min,new max]\n",
    "    old_min = -1\n",
    "    old_max = 1\n",
    "    new_min = 1\n",
    "    new_max = 5\n",
    "    \n",
    "    #formula\n",
    "    rating = ((new_max - new_min) * (TextBlob(str(comment)).polarity - old_min) )/ (old_max - old_min)  + new_min\n",
    "    return rating"
   ]
  },
  {
   "cell_type": "code",
   "execution_count": 387,
   "metadata": {},
   "outputs": [],
   "source": [
    "#Calculate rating from rate_comment scores\n",
    "\n",
    "# It is used to skip the warning ''SettingWithCopyWarning''.. \n",
    "pd.options.mode.chained_assignment = None  # default='warn'\n",
    "\n",
    "reviews_eng['rating'] = reviews_eng['comments'].apply(lambda x: rate_comment(x))"
   ]
  },
  {
   "cell_type": "code",
   "execution_count": 388,
   "metadata": {},
   "outputs": [],
   "source": [
    "reviews_eng.drop(['comments','reviewer_name','language'],axis=1, inplace=True)"
   ]
  },
  {
   "cell_type": "code",
   "execution_count": 399,
   "metadata": {},
   "outputs": [
    {
     "name": "stdout",
     "output_type": "stream",
     "text": [
      "<class 'pandas.core.frame.DataFrame'>\n",
      "Int64Index: 271794 entries, 1 to 401962\n",
      "Data columns (total 4 columns):\n",
      "listing_id     271794 non-null int64\n",
      "reviewer_id    271794 non-null int64\n",
      "date           271794 non-null object\n",
      "rating         271794 non-null float64\n",
      "dtypes: float64(1), int64(2), object(1)\n",
      "memory usage: 10.4+ MB\n"
     ]
    }
   ],
   "source": [
    "reviews_eng.info()"
   ]
  },
  {
   "cell_type": "code",
   "execution_count": 400,
   "metadata": {},
   "outputs": [
    {
     "data": {
      "text/plain": [
       "listing_id     0\n",
       "reviewer_id    0\n",
       "date           0\n",
       "rating         0\n",
       "dtype: int64"
      ]
     },
     "execution_count": 400,
     "metadata": {},
     "output_type": "execute_result"
    }
   ],
   "source": [
    "reviews_eng.isna().sum()"
   ]
  },
  {
   "cell_type": "markdown",
   "metadata": {},
   "source": [
    "#### Removing Duplicates"
   ]
  },
  {
   "cell_type": "code",
   "execution_count": 401,
   "metadata": {},
   "outputs": [
    {
     "name": "stdout",
     "output_type": "stream",
     "text": [
      "There are 0 duplicate rating entries in the data..\n"
     ]
    }
   ],
   "source": [
    "dup_bool = reviews_eng.duplicated(['reviewer_id','listing_id','rating'])\n",
    "dups = sum(dup_bool) # by considering all columns..( including timestamp)\n",
    "print(\"There are {} duplicate rating entries in the data..\".format(dups))"
   ]
  },
  {
   "cell_type": "code",
   "execution_count": 402,
   "metadata": {},
   "outputs": [
    {
     "data": {
      "text/plain": [
       "(271794, 4)"
      ]
     },
     "execution_count": 402,
     "metadata": {},
     "output_type": "execute_result"
    }
   ],
   "source": [
    "#Shape before duplicate removal\n",
    "reviews_eng.shape"
   ]
  },
  {
   "cell_type": "code",
   "execution_count": 403,
   "metadata": {},
   "outputs": [],
   "source": [
    "reviews_eng = reviews_eng.drop_duplicates(subset=['reviewer_id','listing_id','rating'])"
   ]
  },
  {
   "cell_type": "code",
   "execution_count": 404,
   "metadata": {},
   "outputs": [
    {
     "data": {
      "text/plain": [
       "(271794, 4)"
      ]
     },
     "execution_count": 404,
     "metadata": {},
     "output_type": "execute_result"
    }
   ],
   "source": [
    "#shape after duplicate removal\n",
    "reviews_eng.shape"
   ]
  },
  {
   "cell_type": "markdown",
   "metadata": {},
   "source": [
    "Save the finalised reviews dataframe to a pickle file in order to avoid the long runtime"
   ]
  },
  {
   "cell_type": "code",
   "execution_count": 405,
   "metadata": {},
   "outputs": [],
   "source": [
    "#Run for the first time and then comment the below 2 lines\n",
    "reviews_eng.to_csv(os.path.join(dir_path,\"saved_csv/review_data_final.csv\"))\n",
    "reviews_eng.to_pickle(os.path.join(dir_path,\"pickels/review_data_final\"))\n",
    "\n",
    "#Load from pickle\n",
    "reviews_df_final = pd.read_pickle(os.path.join(dir_path,\"pickels/review_data_final\"))"
   ]
  },
  {
   "cell_type": "code",
   "execution_count": 406,
   "metadata": {},
   "outputs": [
    {
     "data": {
      "text/html": [
       "<div>\n",
       "<style scoped>\n",
       "    .dataframe tbody tr th:only-of-type {\n",
       "        vertical-align: middle;\n",
       "    }\n",
       "\n",
       "    .dataframe tbody tr th {\n",
       "        vertical-align: top;\n",
       "    }\n",
       "\n",
       "    .dataframe thead th {\n",
       "        text-align: right;\n",
       "    }\n",
       "</style>\n",
       "<table border=\"1\" class=\"dataframe\">\n",
       "  <thead>\n",
       "    <tr style=\"text-align: right;\">\n",
       "      <th></th>\n",
       "      <th>listing_id</th>\n",
       "      <th>reviewer_id</th>\n",
       "      <th>date</th>\n",
       "      <th>rating</th>\n",
       "    </tr>\n",
       "  </thead>\n",
       "  <tbody>\n",
       "    <tr>\n",
       "      <th>1</th>\n",
       "      <td>2015</td>\n",
       "      <td>41944715</td>\n",
       "      <td>2016-04-15</td>\n",
       "      <td>4.35375</td>\n",
       "    </tr>\n",
       "    <tr>\n",
       "      <th>3</th>\n",
       "      <td>2015</td>\n",
       "      <td>63697857</td>\n",
       "      <td>2016-05-10</td>\n",
       "      <td>4.60000</td>\n",
       "    </tr>\n",
       "  </tbody>\n",
       "</table>\n",
       "</div>"
      ],
      "text/plain": [
       "   listing_id  reviewer_id        date   rating\n",
       "1        2015     41944715  2016-04-15  4.35375\n",
       "3        2015     63697857  2016-05-10  4.60000"
      ]
     },
     "execution_count": 406,
     "metadata": {},
     "output_type": "execute_result"
    }
   ],
   "source": [
    "reviews_df_final.head(2)"
   ]
  },
  {
   "cell_type": "markdown",
   "metadata": {},
   "source": [
    "### Merge listings and reviews"
   ]
  },
  {
   "cell_type": "code",
   "execution_count": 407,
   "metadata": {},
   "outputs": [
    {
     "data": {
      "text/html": [
       "<div>\n",
       "<style scoped>\n",
       "    .dataframe tbody tr th:only-of-type {\n",
       "        vertical-align: middle;\n",
       "    }\n",
       "\n",
       "    .dataframe tbody tr th {\n",
       "        vertical-align: top;\n",
       "    }\n",
       "\n",
       "    .dataframe thead th {\n",
       "        text-align: right;\n",
       "    }\n",
       "</style>\n",
       "<table border=\"1\" class=\"dataframe\">\n",
       "  <thead>\n",
       "    <tr style=\"text-align: right;\">\n",
       "      <th></th>\n",
       "      <th>name</th>\n",
       "      <th>listing_id</th>\n",
       "      <th>accommodates</th>\n",
       "      <th>bathrooms</th>\n",
       "      <th>bedrooms</th>\n",
       "      <th>price</th>\n",
       "      <th>cleaning_fee</th>\n",
       "      <th>security_deposit</th>\n",
       "      <th>extra_people</th>\n",
       "      <th>guests_included</th>\n",
       "      <th>...</th>\n",
       "      <th>cancellation_policy_flexible</th>\n",
       "      <th>cancellation_policy_moderate</th>\n",
       "      <th>cancellation_policy_strict_14_with_grace_period</th>\n",
       "      <th>cancellation_policy_super_strict_30</th>\n",
       "      <th>cancellation_policy_super_strict_60</th>\n",
       "      <th>host_is_superhost_f</th>\n",
       "      <th>host_is_superhost_t</th>\n",
       "      <th>reviewer_id</th>\n",
       "      <th>date</th>\n",
       "      <th>rating</th>\n",
       "    </tr>\n",
       "  </thead>\n",
       "  <tbody>\n",
       "    <tr>\n",
       "      <th>0</th>\n",
       "      <td>Berlin-Mitte Value! Quiet courtyard/very central</td>\n",
       "      <td>2015</td>\n",
       "      <td>3</td>\n",
       "      <td>1.0</td>\n",
       "      <td>1.0</td>\n",
       "      <td>60.0</td>\n",
       "      <td>30.0</td>\n",
       "      <td>200.0</td>\n",
       "      <td>28.0</td>\n",
       "      <td>1</td>\n",
       "      <td>...</td>\n",
       "      <td>0</td>\n",
       "      <td>0</td>\n",
       "      <td>1</td>\n",
       "      <td>0</td>\n",
       "      <td>0</td>\n",
       "      <td>0</td>\n",
       "      <td>1</td>\n",
       "      <td>41944715</td>\n",
       "      <td>2016-04-15</td>\n",
       "      <td>4.35375</td>\n",
       "    </tr>\n",
       "    <tr>\n",
       "      <th>1</th>\n",
       "      <td>Berlin-Mitte Value! Quiet courtyard/very central</td>\n",
       "      <td>2015</td>\n",
       "      <td>3</td>\n",
       "      <td>1.0</td>\n",
       "      <td>1.0</td>\n",
       "      <td>60.0</td>\n",
       "      <td>30.0</td>\n",
       "      <td>200.0</td>\n",
       "      <td>28.0</td>\n",
       "      <td>1</td>\n",
       "      <td>...</td>\n",
       "      <td>0</td>\n",
       "      <td>0</td>\n",
       "      <td>1</td>\n",
       "      <td>0</td>\n",
       "      <td>0</td>\n",
       "      <td>0</td>\n",
       "      <td>1</td>\n",
       "      <td>63697857</td>\n",
       "      <td>2016-05-10</td>\n",
       "      <td>4.60000</td>\n",
       "    </tr>\n",
       "  </tbody>\n",
       "</table>\n",
       "<p>2 rows × 39 columns</p>\n",
       "</div>"
      ],
      "text/plain": [
       "                                               name  listing_id  accommodates  \\\n",
       "0  Berlin-Mitte Value! Quiet courtyard/very central        2015             3   \n",
       "1  Berlin-Mitte Value! Quiet courtyard/very central        2015             3   \n",
       "\n",
       "   bathrooms  bedrooms  price  cleaning_fee  security_deposit  extra_people  \\\n",
       "0        1.0       1.0   60.0          30.0             200.0          28.0   \n",
       "1        1.0       1.0   60.0          30.0             200.0          28.0   \n",
       "\n",
       "   guests_included  ...  cancellation_policy_flexible  \\\n",
       "0                1  ...                             0   \n",
       "1                1  ...                             0   \n",
       "\n",
       "   cancellation_policy_moderate  \\\n",
       "0                             0   \n",
       "1                             0   \n",
       "\n",
       "   cancellation_policy_strict_14_with_grace_period  \\\n",
       "0                                                1   \n",
       "1                                                1   \n",
       "\n",
       "   cancellation_policy_super_strict_30  cancellation_policy_super_strict_60  \\\n",
       "0                                    0                                    0   \n",
       "1                                    0                                    0   \n",
       "\n",
       "   host_is_superhost_f  host_is_superhost_t  reviewer_id        date   rating  \n",
       "0                    0                    1     41944715  2016-04-15  4.35375  \n",
       "1                    0                    1     63697857  2016-05-10  4.60000  \n",
       "\n",
       "[2 rows x 39 columns]"
      ]
     },
     "execution_count": 407,
     "metadata": {},
     "output_type": "execute_result"
    }
   ],
   "source": [
    "merged_data = pd.merge(listings_df,reviews_df_final,on = 'listing_id',how='inner')\n",
    "merged_data.head(2)"
   ]
  },
  {
   "cell_type": "markdown",
   "metadata": {},
   "source": [
    "### sort by date"
   ]
  },
  {
   "cell_type": "code",
   "execution_count": 408,
   "metadata": {},
   "outputs": [
    {
     "name": "stdout",
     "output_type": "stream",
     "text": [
      "Done.\n",
      "\n",
      "Sorting the dataframe by date..\n",
      "Done..\n"
     ]
    }
   ],
   "source": [
    "# It is used to skip the warning ''SettingWithCopyWarning''.. \n",
    "pd.options.mode.chained_assignment = None  # default='warn'\n",
    "\n",
    "#Sort reviews by date\n",
    "merged_data.date = pd.to_datetime(merged_data.date)\n",
    "print('Done.\\n')\n",
    "\n",
    "# we are arranging the ratings according to time.\n",
    "print('Sorting the dataframe by date..')\n",
    "merged_data.sort_values(by='date', inplace=True)\n",
    "print('Done..')"
   ]
  },
  {
   "cell_type": "markdown",
   "metadata": {},
   "source": [
    "Save the merged dataframe to a pickle file in order to avoid the long runtime"
   ]
  },
  {
   "cell_type": "code",
   "execution_count": 449,
   "metadata": {},
   "outputs": [],
   "source": [
    "#Final merged data\n",
    "#Run for the first time and then comment the below 2 lines\n",
    "merged_data.to_csv(os.path.join(dir_path,\"saved_csv/merged_data.csv\"))\n",
    "merged_data.to_pickle(os.path.join(dir_path,\"pickels/merged_data\"))\n",
    "\n",
    "#Load from pickle\n",
    "merged_data = pd.read_pickle(os.path.join(dir_path,\"pickels/merged_data\"))"
   ]
  },
  {
   "cell_type": "markdown",
   "metadata": {},
   "source": [
    "### Spliting data into Train and Test(80:20) </h2>"
   ]
  },
  {
   "cell_type": "code",
   "execution_count": 450,
   "metadata": {},
   "outputs": [],
   "source": [
    "# create the dataframe and store it in the disk for offline purposes..\n",
    "merged_data.iloc[:int(merged_data.shape[0]*0.80)].to_csv(\"train.csv\", index=False)\n",
    "\n",
    "# create the dataframe and store it in the disk for offline purposes..\n",
    "merged_data.iloc[int(merged_data.shape[0]*0.80):].to_csv(\"test.csv\", index=False)\n",
    "\n",
    "#Comment above lines after first execution and load directly\n",
    "train_df = pd.read_csv(\"train.csv\")\n",
    "test_df = pd.read_csv(\"test.csv\")"
   ]
  },
  {
   "cell_type": "markdown",
   "metadata": {},
   "source": [
    "### Basic Statistics in Train data (#Ratings, #reviewers, and #listings)</h3>"
   ]
  },
  {
   "cell_type": "code",
   "execution_count": 411,
   "metadata": {},
   "outputs": [
    {
     "name": "stdout",
     "output_type": "stream",
     "text": [
      "Training data \n",
      "--------------------------------------------------\n",
      "\n",
      "Total no of ratings : 215816\n",
      "Total No of reviewers   : 202266\n",
      "Total No of listings  : 15001\n"
     ]
    }
   ],
   "source": [
    "\n",
    "print(\"Training data \")\n",
    "print(\"-\"*50)\n",
    "print(\"\\nTotal no of ratings :\",train_df.shape[0])\n",
    "print(\"Total No of reviewers   :\", len(np.unique(train_df.reviewer_id)))\n",
    "print(\"Total No of listings  :\", len(np.unique(train_df.listing_id)))"
   ]
  },
  {
   "cell_type": "markdown",
   "metadata": {},
   "source": [
    "<h3>Basic Statistics in Test data (#Ratings, #reviewers, and #listings)</h3>"
   ]
  },
  {
   "cell_type": "code",
   "execution_count": 412,
   "metadata": {},
   "outputs": [
    {
     "name": "stdout",
     "output_type": "stream",
     "text": [
      "Test data \n",
      "--------------------------------------------------\n",
      "\n",
      "Total no of ratings : 53955\n",
      "Total No of reviewers   : 51753\n",
      "Total No of listings  : 10235\n"
     ]
    }
   ],
   "source": [
    "print(\"Test data \")\n",
    "print(\"-\"*50)\n",
    "print(\"\\nTotal no of ratings :\",test_df.shape[0])\n",
    "print(\"Total No of reviewers   :\", len(np.unique(test_df.reviewer_id)))\n",
    "print(\"Total No of listings  :\", len(np.unique(test_df.listing_id)))"
   ]
  },
  {
   "cell_type": "markdown",
   "metadata": {},
   "source": [
    "<h3> 3.3.3 Analysis on the Ratings given by user </h3>"
   ]
  },
  {
   "cell_type": "code",
   "execution_count": 413,
   "metadata": {},
   "outputs": [
    {
     "data": {
      "text/plain": [
       "reviewer_id\n",
       "47369497     24\n",
       "28687436     22\n",
       "140723732    17\n",
       "109358423    17\n",
       "168917573    15\n",
       "Name: rating, dtype: int64"
      ]
     },
     "execution_count": 413,
     "metadata": {},
     "output_type": "execute_result"
    }
   ],
   "source": [
    "no_of_rated_listings_per_reviewer = train_df.groupby(by='reviewer_id')['rating'].count().sort_values(ascending=False)\n",
    "\n",
    "no_of_rated_listings_per_reviewer.head()"
   ]
  },
  {
   "cell_type": "code",
   "execution_count": 414,
   "metadata": {},
   "outputs": [
    {
     "data": {
      "text/plain": [
       "count    202266.000000\n",
       "mean          1.066991\n",
       "std           0.342971\n",
       "min           1.000000\n",
       "25%           1.000000\n",
       "50%           1.000000\n",
       "75%           1.000000\n",
       "max          24.000000\n",
       "Name: rating, dtype: float64"
      ]
     },
     "execution_count": 414,
     "metadata": {},
     "output_type": "execute_result"
    }
   ],
   "source": [
    "no_of_rated_listings_per_reviewer.describe()"
   ]
  },
  {
   "cell_type": "markdown",
   "metadata": {},
   "source": [
    "<h3>Creating sparse matrix from data frame </h3>"
   ]
  },
  {
   "cell_type": "markdown",
   "metadata": {},
   "source": [
    "<h4>Creating sparse matrix from train data frame </h4>"
   ]
  },
  {
   "cell_type": "code",
   "execution_count": 415,
   "metadata": {},
   "outputs": [
    {
     "name": "stdout",
     "output_type": "stream",
     "text": [
      "We are creating sparse_matrix from the dataframe..\n",
      "Done. It's shape is : (user, listing) :  (198432360, 26379845)\n",
      "Saving it into disk for furthur usage..\n",
      "Done..\n",
      "\n",
      "0:00:06.661865\n"
     ]
    }
   ],
   "source": [
    "start = datetime.now()\n",
    "#if os.path.isfile('train_sparse_matrix.npz'):\n",
    "    #print(\"It is present in your pwd, getting it from disk....\")\n",
    "    # just get it from the disk instead of computing it\n",
    "    #train_sparse_matrix = sparse.load_npz('train_sparse_matrix.npz')\n",
    "    #print(\"DONE..\")\n",
    "#else: \n",
    "print(\"We are creating sparse_matrix from the dataframe..\")\n",
    "# create sparse_matrix and store it for after usage.\n",
    "# csr_matrix(data_values, (row_index, col_index), shape_of_matrix)\n",
    "# It should be in such a way that, MATRIX[row, col] = data\n",
    "train_sparse_matrix = sparse.csr_matrix((train_df.rating.values, (train_df.reviewer_id.values,\n",
    "                                               train_df.listing_id.values)),)\n",
    "    \n",
    "print('Done. It\\'s shape is : (user, listing) : ',train_sparse_matrix.shape)\n",
    "print('Saving it into disk for furthur usage..')\n",
    "# save it into disk\n",
    "sparse.save_npz(\"train_sparse_matrix.npz\", train_sparse_matrix)\n",
    "print('Done..\\n')\n",
    "\n",
    "print(datetime.now() - start)"
   ]
  },
  {
   "cell_type": "markdown",
   "metadata": {},
   "source": [
    "<p><b>The Sparsity of Train Sparse Matrix</b></p>"
   ]
  },
  {
   "cell_type": "code",
   "execution_count": 416,
   "metadata": {},
   "outputs": [
    {
     "name": "stdout",
     "output_type": "stream",
     "text": [
      "Sparsity Of Train matrix : 99.99999999589966 % \n"
     ]
    }
   ],
   "source": [
    "us,ht = train_sparse_matrix.shape\n",
    "elem = train_sparse_matrix.count_nonzero()\n",
    "\n",
    "print(\"Sparsity Of Train matrix : {} % \".format(  (1-(elem/(us*ht))) * 100) )"
   ]
  },
  {
   "cell_type": "markdown",
   "metadata": {},
   "source": [
    "<h4>Creating sparse matrix from test data frame </h4>"
   ]
  },
  {
   "cell_type": "code",
   "execution_count": 417,
   "metadata": {},
   "outputs": [
    {
     "name": "stdout",
     "output_type": "stream",
     "text": [
      "We are creating sparse_matrix from the dataframe..\n",
      "Done. It's shape is : (user, rating) :  (224475663, 29849566)\n",
      "Saving it into disk for furthur usage..\n",
      "Done..\n",
      "\n",
      "0:00:08.645613\n"
     ]
    }
   ],
   "source": [
    "start = datetime.now()\n",
    "#if os.path.isfile('test_sparse_matrix.npz'):\n",
    "#    print(\"It is present in your pwd, getting it from disk....\")\n",
    "    # just get it from the disk instead of computing it\n",
    "#    test_sparse_matrix = sparse.load_npz('test_sparse_matrix.npz')\n",
    "#    print(\"DONE..\")\n",
    "#else: \n",
    "print(\"We are creating sparse_matrix from the dataframe..\")\n",
    "# create sparse_matrix and store it for after usage.\n",
    "# csr_matrix(data_values, (row_index, col_index), shape_of_matrix)\n",
    "# It should be in such a way that, MATRIX[row, col] = data\n",
    "test_sparse_matrix = sparse.csr_matrix((test_df.rating.values, (test_df.reviewer_id.values,\n",
    "                                               test_df.listing_id.values)))\n",
    "    \n",
    "print('Done. It\\'s shape is : (user, rating) : ',test_sparse_matrix.shape)\n",
    "print('Saving it into disk for furthur usage..')\n",
    "# save it into disk\n",
    "sparse.save_npz(\"test_sparse_matrix.npz\", test_sparse_matrix)\n",
    "print('Done..\\n')\n",
    "    \n",
    "print(datetime.now() - start)"
   ]
  },
  {
   "cell_type": "markdown",
   "metadata": {},
   "source": [
    "<p><b>The Sparsity of Test data Matrix</b></p>"
   ]
  },
  {
   "cell_type": "code",
   "execution_count": 418,
   "metadata": {},
   "outputs": [
    {
     "name": "stdout",
     "output_type": "stream",
     "text": [
      "Sparsity Of Test matrix : 99.9999999991962 % \n"
     ]
    }
   ],
   "source": [
    "us,ht = test_sparse_matrix.shape\n",
    "elem = test_sparse_matrix.count_nonzero()\n",
    "\n",
    "print(\"Sparsity Of Test matrix : {} % \".format(  (1-(elem/(us*ht))) * 100) )"
   ]
  },
  {
   "cell_type": "markdown",
   "metadata": {},
   "source": [
    "<h3>Finding Global average of all hotel ratings, Average rating per user, and Average rating per hotel</h3>"
   ]
  },
  {
   "cell_type": "code",
   "execution_count": 419,
   "metadata": {},
   "outputs": [],
   "source": [
    "# get the user averages in dictionary (key: reviewer_id/listing_id, value: avg rating)\n",
    "\n",
    "def get_average_ratings(sparse_matrix, of_users):\n",
    "    \n",
    "    # average ratings of user/axes\n",
    "    ax = 1 if of_users else 0 # 1 - User axes,0 - Hotel axes\n",
    "\n",
    "    # \".A1\" is for converting Column_Matrix to 1-D numpy array \n",
    "    sum_of_ratings = sparse_matrix.sum(axis=ax).A1\n",
    "    # Boolean matrix of ratings ( whether a user rated that Hotel or not)\n",
    "    is_rated = sparse_matrix!=0\n",
    "    # no of ratings that each user OR listing..\n",
    "    no_of_ratings = is_rated.sum(axis=ax).A1\n",
    "    \n",
    "    # max_user  and max_listing ids in sparse matrix \n",
    "    u,m = sparse_matrix.shape\n",
    "    # creae a dictonary of users and their average ratigns..\n",
    "    average_ratings = { i : sum_of_ratings[i]/no_of_ratings[i]\n",
    "                                 for i in range(u if of_users else m) \n",
    "                                    if no_of_ratings[i] !=0}\n",
    "\n",
    "    # return that dictionary of average ratings\n",
    "    return average_ratings"
   ]
  },
  {
   "cell_type": "markdown",
   "metadata": {},
   "source": [
    "<h4>finding global average of all hotel ratings </h4>"
   ]
  },
  {
   "cell_type": "code",
   "execution_count": 420,
   "metadata": {},
   "outputs": [
    {
     "data": {
      "text/plain": [
       "{'global': 3.8225999655552734}"
      ]
     },
     "execution_count": 420,
     "metadata": {},
     "output_type": "execute_result"
    }
   ],
   "source": [
    "train_averages = dict()\n",
    "# get the global average of ratings in our train set.\n",
    "train_global_average = train_sparse_matrix.sum()/train_sparse_matrix.count_nonzero()\n",
    "train_averages['global'] = train_global_average\n",
    "train_averages"
   ]
  },
  {
   "cell_type": "markdown",
   "metadata": {},
   "source": [
    "<h4>finding average rating per user</h4>"
   ]
  },
  {
   "cell_type": "code",
   "execution_count": 421,
   "metadata": {},
   "outputs": [
    {
     "name": "stdout",
     "output_type": "stream",
     "text": [
      "\n",
      "Average rating of user 21475 : 3.8042857142857134\n"
     ]
    }
   ],
   "source": [
    "train_averages['reviewer_id'] = get_average_ratings(train_sparse_matrix, of_users=True)\n",
    "print('\\nAverage rating of user 21475 :',train_averages['reviewer_id'][21475])"
   ]
  },
  {
   "cell_type": "markdown",
   "metadata": {},
   "source": [
    "<h4>finding average rating per hotel</h4>"
   ]
  },
  {
   "cell_type": "code",
   "execution_count": 422,
   "metadata": {},
   "outputs": [
    {
     "name": "stdout",
     "output_type": "stream",
     "text": [
      "\n",
      " AVerage rating of hotels 3176 : 3.8394606754623575\n"
     ]
    }
   ],
   "source": [
    "train_averages['listing_id'] =  get_average_ratings(train_sparse_matrix, of_users=False)\n",
    "print('\\n AVerage rating of hotels 3176 :',train_averages['listing_id'][3176])"
   ]
  },
  {
   "cell_type": "markdown",
   "metadata": {},
   "source": [
    "<h3>Cold Start problem </h3>"
   ]
  },
  {
   "cell_type": "markdown",
   "metadata": {},
   "source": [
    "<h4>Cold Start problem with Users</h4>"
   ]
  },
  {
   "cell_type": "code",
   "execution_count": 423,
   "metadata": {},
   "outputs": [
    {
     "name": "stdout",
     "output_type": "stream",
     "text": [
      "\n",
      "Total number of Users  : 251129\n",
      "\n",
      "Number of Users in Train data : 202266\n",
      "\n",
      "No of Users that didn't appear in train data: 48863(19.46 %) \n",
      " \n"
     ]
    }
   ],
   "source": [
    "total_users = len(np.unique(merged_data.reviewer_id))\n",
    "users_train = len(train_averages['reviewer_id'])\n",
    "new_users = total_users - users_train\n",
    "\n",
    "print('\\nTotal number of Users  :', total_users)\n",
    "print('\\nNumber of Users in Train data :', users_train)\n",
    "print(\"\\nNo of Users that didn't appear in train data: {}({} %) \\n \".format(new_users,\n",
    "                                                                        np.round((new_users/total_users)*100, 2)))"
   ]
  },
  {
   "cell_type": "markdown",
   "metadata": {},
   "source": [
    "> We might have to handle __new users__ 48861(19.46 %) who didn't appear in train data."
   ]
  },
  {
   "cell_type": "markdown",
   "metadata": {},
   "source": [
    "<h4>Cold Start problem with Hotels</h4>"
   ]
  },
  {
   "cell_type": "code",
   "execution_count": 424,
   "metadata": {},
   "outputs": [
    {
     "name": "stdout",
     "output_type": "stream",
     "text": [
      "\n",
      "Total number of Hotels  : 17535\n",
      "\n",
      "Number of Users in Train data : 15001\n",
      "\n",
      "No of Hotels that didn't appear in train data: 2534(14.45 %) \n",
      " \n"
     ]
    }
   ],
   "source": [
    "total_hotels = len(np.unique(merged_data.listing_id))\n",
    "hotels_train = len(train_averages['listing_id'])\n",
    "new_hotels = total_hotels - hotels_train\n",
    "\n",
    "print('\\nTotal number of Hotels  :', total_hotels)\n",
    "print('\\nNumber of Users in Train data :', hotels_train)\n",
    "print(\"\\nNo of Hotels that didn't appear in train data: {}({} %) \\n \".format(new_hotels,\n",
    "                                                                        np.round((new_hotels/total_hotels)*100, 2)))"
   ]
  },
  {
   "cell_type": "markdown",
   "metadata": {},
   "source": [
    "> We might have to handle __2536(14.46 %) hotels__  in test data"
   ]
  },
  {
   "cell_type": "markdown",
   "metadata": {},
   "source": [
    " <h1>Machine Learning Models </h1>"
   ]
  },
  {
   "cell_type": "markdown",
   "metadata": {},
   "source": [
    "<h3> Transforming data for Surprise models</h3>"
   ]
  },
  {
   "cell_type": "code",
   "execution_count": 451,
   "metadata": {},
   "outputs": [],
   "source": [
    "from surprise import Reader, Dataset"
   ]
  },
  {
   "cell_type": "markdown",
   "metadata": {},
   "source": [
    "<h4>Transforming train data </h4>"
   ]
  },
  {
   "cell_type": "code",
   "execution_count": 452,
   "metadata": {},
   "outputs": [],
   "source": [
    "# It is to specify how to read the dataframe.\n",
    "# for our dataframe, we don't have to specify anything extra..\n",
    "reader = Reader(rating_scale=(1,5))\n",
    "\n",
    "# create the traindata from the dataframe...\n",
    "train_data = Dataset.load_from_df(train_df[['reviewer_id', 'listing_id', 'rating']], reader)\n",
    "\n",
    "# build the trainset from traindata.., It is of dataset format from surprise library..\n",
    "trainset = train_data.build_full_trainset() "
   ]
  },
  {
   "cell_type": "markdown",
   "metadata": {},
   "source": [
    "<h4>Transforming test data </h4>"
   ]
  },
  {
   "cell_type": "markdown",
   "metadata": {},
   "source": [
    "- Testset is just a list of (user, hotel, rating) tuples. (Order in the tuple is impotant) "
   ]
  },
  {
   "cell_type": "code",
   "execution_count": 453,
   "metadata": {},
   "outputs": [
    {
     "data": {
      "text/plain": [
       "[(38274579, 6111076, 3.333333333333333),\n",
       " (52741259, 24368889, 4.3599999999999985),\n",
       " (188758741, 20062827, 3.9285185185185183)]"
      ]
     },
     "execution_count": 453,
     "metadata": {},
     "output_type": "execute_result"
    }
   ],
   "source": [
    "testset = list(zip(test_df.reviewer_id.values, test_df.listing_id.values, test_df.rating.values))\n",
    "testset[:3]"
   ]
  },
  {
   "cell_type": "markdown",
   "metadata": {},
   "source": [
    "<h2>Applying Machine Learning models </h2>"
   ]
  },
  {
   "cell_type": "code",
   "execution_count": 454,
   "metadata": {},
   "outputs": [
    {
     "data": {
      "text/plain": [
       "({}, {})"
      ]
     },
     "execution_count": 454,
     "metadata": {},
     "output_type": "execute_result"
    }
   ],
   "source": [
    "models_evaluation_train = dict()\n",
    "models_evaluation_test = dict()\n",
    "\n",
    "models_evaluation_train, models_evaluation_test"
   ]
  },
  {
   "cell_type": "markdown",
   "metadata": {},
   "source": [
    " > __Utility functions for running regression models__"
   ]
  },
  {
   "cell_type": "code",
   "execution_count": 455,
   "metadata": {},
   "outputs": [],
   "source": [
    "# to get rmse and mape given actual and predicted ratings..\n",
    "def get_error_metrics(y_true, y_pred):\n",
    "    rmse = np.sqrt(np.mean([ (y_true[i] - y_pred[i])**2 for i in range(len(y_pred)) ]))\n",
    "    mape = np.mean(np.abs( (y_true - y_pred)/y_true )) * 100\n",
    "    return rmse, mape\n",
    "\n",
    "###################################################################\n",
    "###################################################################\n",
    "def run_boosting(algo,  x_train, y_train, x_test, y_test, verbose=True):\n",
    "    \"\"\"\n",
    "    It will return train_results and test_results\n",
    "    \"\"\"\n",
    "    \n",
    "    # dictionaries for storing train and test results\n",
    "    train_results = dict()\n",
    "    test_results = dict()\n",
    "    \n",
    "    \n",
    "    # fit the model\n",
    "    print('Training the model..')\n",
    "    start =datetime.now()\n",
    "    algo.fit(x_train, y_train)\n",
    "    print('Done. Time taken : {}\\n'.format(datetime.now()-start))\n",
    "    print('Done \\n')\n",
    "\n",
    "    # from the trained model, get the predictions....\n",
    "    print('Evaluating the model with TRAIN data...')\n",
    "    start =datetime.now()\n",
    "    y_train_pred = algo.predict(x_train)\n",
    "    # get the rmse and mape of train data...\n",
    "    rmse_train, mape_train = get_error_metrics(y_train.values, y_train_pred)\n",
    "    \n",
    "    # store the results in train_results dictionary..\n",
    "    train_results = {'rmse': rmse_train,\n",
    "                    'mape' : mape_train,\n",
    "                    'predictions' : y_train_pred}\n",
    "    \n",
    "    #######################################\n",
    "    # get the test data predictions and compute rmse and mape\n",
    "    print('Evaluating Test data')\n",
    "    y_test_pred = algo.predict(x_test) \n",
    "    rmse_test, mape_test = get_error_metrics(y_true=y_test.values, y_pred=y_test_pred)\n",
    "    # store them in our test results dictionary.\n",
    "    test_results = {'rmse': rmse_test,\n",
    "                    'mape' : mape_test,\n",
    "                    'predictions':y_test_pred}\n",
    "    if verbose:\n",
    "        print('\\nTEST DATA')\n",
    "        print('-'*30)\n",
    "        print('RMSE : ', rmse_test)\n",
    "        print('MAPE : ', mape_test)\n",
    "        \n",
    "    # return these train and test results...\n",
    "    return train_results, test_results\n",
    "\n",
    "def run_content_based(algo, vect, x_train, y_train, x_test, y_test, verbose=True):\n",
    "    \"\"\"\n",
    "    It will return train_results and test_results\n",
    "    \"\"\"\n",
    "    \n",
    "    # dictionaries for storing train and test results\n",
    "    train_results = dict()\n",
    "    test_results = dict()\n",
    "    \n",
    "    \n",
    "    # fit the model\n",
    "    print('Training the model..')\n",
    "    start =datetime.now()\n",
    "    algo.fit(x_train, y_train)\n",
    "    print('Done. Time taken : {}\\n'.format(datetime.now()-start))\n",
    "    print('Done \\n')\n",
    "\n",
    "    # from the trained model, get the predictions....\n",
    "    print('Evaluating the model with TRAIN data...')\n",
    "    start =datetime.now()\n",
    "    y_train_pred = algo.predict(x_train)\n",
    "    # get the rmse and mape of train data...\n",
    "    rmse_train, mape_train = get_error_metrics(y_train, y_train_pred)\n",
    "    \n",
    "    # store the results in train_results dictionary..\n",
    "    train_results = {'rmse': rmse_train,\n",
    "                    'mape' : mape_train,\n",
    "                    'predictions' : y_train_pred}\n",
    "    \n",
    "    #######################################\n",
    "    # get the test data predictions and compute rmse and mape\n",
    "    print('Evaluating Test data')\n",
    "    \n",
    "    pipe = Pipeline([('vect',vect),('model',model)])\n",
    "    y_test_pred = pipe.predict(x_test) \n",
    "    rmse_test, mape_test = get_error_metrics(y_true=y_test, y_pred=y_test_pred)\n",
    "    # store them in our test results dictionary.\n",
    "    test_results = {'rmse': rmse_test,\n",
    "                    'mape' : mape_test,\n",
    "                    'predictions':y_test_pred}\n",
    "    if verbose:\n",
    "        print('\\nTEST DATA')\n",
    "        print('-'*30)\n",
    "        print('RMSE : ', rmse_test)\n",
    "        print('MAPE : ', mape_test)\n",
    "        \n",
    "    # return these train and test results...\n",
    "    return train_results, test_results\n",
    "    "
   ]
  },
  {
   "cell_type": "markdown",
   "metadata": {},
   "source": [
    "> __Utility functions for Surprise models__"
   ]
  },
  {
   "cell_type": "code",
   "execution_count": 456,
   "metadata": {},
   "outputs": [],
   "source": [
    "# it is just to makesure that all of our algorithms should produce same results\n",
    "# everytime they run...\n",
    "\n",
    "my_seed = 15\n",
    "random.seed(my_seed)\n",
    "np.random.seed(my_seed)\n",
    "\n",
    "##########################################################\n",
    "# get  (actual_list , predicted_list) ratings given list \n",
    "# of predictions (prediction is a class in Surprise).    \n",
    "##########################################################\n",
    "def get_ratings(predictions):\n",
    "    actual = np.array([pred.r_ui for pred in predictions])\n",
    "    pred = np.array([pred.est for pred in predictions])\n",
    "    \n",
    "    return actual, pred\n",
    "\n",
    "################################################################\n",
    "# get ''rmse'' and ''mape'' , given list of prediction objecs \n",
    "################################################################\n",
    "def get_errors(predictions, print_them=False):\n",
    "\n",
    "    actual, pred = get_ratings(predictions)\n",
    "    rmse = np.sqrt(np.mean((pred - actual)**2))\n",
    "    mape = np.mean(np.abs(pred - actual)/actual)\n",
    "\n",
    "    return rmse, mape*100\n",
    "\n",
    "##################################################################################\n",
    "# It will return predicted ratings, rmse and mape of both train and test data   #\n",
    "##################################################################################\n",
    "def run_surprise(algo, trainset, testset, verbose=True): \n",
    "    '''\n",
    "        return train_dict, test_dict\n",
    "    \n",
    "        It returns two dictionaries, one for train and the other is for test\n",
    "        Each of them have 3 key-value pairs, which specify ''rmse'', ''mape'', and ''predicted ratings''.\n",
    "    '''\n",
    "    start = datetime.now()\n",
    "    # dictionaries that stores metrics for train and test..\n",
    "    train = dict()\n",
    "    test = dict()\n",
    "    \n",
    "    # train the algorithm with the trainset\n",
    "    st = datetime.now()\n",
    "    print('Training the model...')\n",
    "    algo.fit(trainset)\n",
    "    print('Done. time taken : {} \\n'.format(datetime.now()-st))\n",
    "    \n",
    "    # ---------------- Evaluating train data--------------------#\n",
    "    st = datetime.now()\n",
    "    print('Evaluating the model with train data..')\n",
    "    # get the train predictions (list of prediction class inside Surprise)\n",
    "    train_preds = algo.test(trainset.build_testset())\n",
    "    # get predicted ratings from the train predictions..\n",
    "    train_actual_ratings, train_pred_ratings = get_ratings(train_preds)\n",
    "    print(train_actual_ratings.shape)\n",
    "    # get ''rmse'' and ''mape'' from the train predictions.\n",
    "    train_rmse, train_mape = get_errors(train_preds)\n",
    "    print('time taken : {}'.format(datetime.now()-st))\n",
    "    \n",
    "    if verbose:\n",
    "        print('-'*15)\n",
    "        print('Train Data')\n",
    "        print('-'*15)\n",
    "        print(\"RMSE : {}\\n\\nMAPE : {}\\n\".format(train_rmse, train_mape))\n",
    "    \n",
    "    #store them in the train dictionary\n",
    "    if verbose:\n",
    "        print('adding train results in the dictionary..')\n",
    "    train['rmse'] = train_rmse\n",
    "    train['mape'] = train_mape\n",
    "    train['predictions'] = train_pred_ratings\n",
    "    \n",
    "    #------------ Evaluating Test data---------------#\n",
    "    st = datetime.now()\n",
    "    print('\\nEvaluating for test data...')\n",
    "    # get the predictions( list of prediction classes) of test data\n",
    "    test_preds = algo.test(testset)\n",
    "    # get the predicted ratings from the list of predictions\n",
    "    test_actual_ratings, test_pred_ratings = get_ratings(test_preds)\n",
    "    # get error metrics from the predicted and actual ratings\n",
    "    test_rmse, test_mape = get_errors(test_preds)\n",
    "    print('time taken : {}'.format(datetime.now()-st))\n",
    "    \n",
    "    if verbose:\n",
    "        print('-'*15)\n",
    "        print('Test Data')\n",
    "        print('-'*15)\n",
    "        print(\"RMSE : {}\\n\\nMAPE : {}\\n\".format(test_rmse, test_mape))\n",
    "    # store them in test dictionary\n",
    "    if verbose:\n",
    "        print('storing the test results in test dictionary...')\n",
    "    test['rmse'] = test_rmse\n",
    "    test['mape'] = test_mape\n",
    "    test['predictions'] = test_pred_ratings\n",
    "    \n",
    "    print('\\n'+'-'*45)\n",
    "    print('Total time taken to run this algorithm :', datetime.now() - start)\n",
    "    \n",
    "    # return two dictionaries train and test\n",
    "    return train, test"
   ]
  },
  {
   "cell_type": "markdown",
   "metadata": {},
   "source": [
    "<h4> SVD Matrix Factorization </h4>"
   ]
  },
  {
   "cell_type": "code",
   "execution_count": 457,
   "metadata": {},
   "outputs": [
    {
     "name": "stdout",
     "output_type": "stream",
     "text": [
      "Training the model...\n",
      "Processing epoch 0\n",
      "Processing epoch 1\n",
      "Processing epoch 2\n",
      "Processing epoch 3\n",
      "Processing epoch 4\n",
      "Processing epoch 5\n",
      "Processing epoch 6\n",
      "Processing epoch 7\n",
      "Processing epoch 8\n",
      "Processing epoch 9\n",
      "Processing epoch 10\n",
      "Processing epoch 11\n",
      "Processing epoch 12\n",
      "Processing epoch 13\n",
      "Processing epoch 14\n",
      "Processing epoch 15\n",
      "Processing epoch 16\n",
      "Processing epoch 17\n",
      "Processing epoch 18\n",
      "Processing epoch 19\n",
      "Done. time taken : 0:00:10.784101 \n",
      "\n",
      "Evaluating the model with train data..\n",
      "(215816,)\n",
      "time taken : 0:00:01.775607\n",
      "---------------\n",
      "Train Data\n",
      "---------------\n",
      "RMSE : 0.28853167954592684\n",
      "\n",
      "MAPE : 5.877149703241134\n",
      "\n",
      "adding train results in the dictionary..\n",
      "\n",
      "Evaluating for test data...\n",
      "time taken : 0:00:00.624093\n",
      "---------------\n",
      "Test Data\n",
      "---------------\n",
      "RMSE : 0.4167141932043671\n",
      "\n",
      "MAPE : 8.35117408501594\n",
      "\n",
      "storing the test results in test dictionary...\n",
      "\n",
      "---------------------------------------------\n",
      "Total time taken to run this algorithm : 0:00:13.183801\n"
     ]
    }
   ],
   "source": [
    "# initiallize the model\n",
    "svd = SVD(n_factors=100, biased=True, random_state=15, verbose=True)\n",
    "svd_train_results, svd_test_results = run_surprise(svd, trainset, testset, verbose=True)\n",
    "\n",
    "# Just store these error metrics in our models_evaluation datastructure\n",
    "models_evaluation_train['svd'] = svd_train_results \n",
    "models_evaluation_test['svd'] = svd_test_results"
   ]
  },
  {
   "cell_type": "code",
   "execution_count": 458,
   "metadata": {},
   "outputs": [
    {
     "data": {
      "text/plain": [
       "{'rmse': 0.4167141932043671,\n",
       " 'mape': 8.35117408501594,\n",
       " 'predictions': array([3.83416145, 3.75384337, 3.83928744, ..., 3.76298553, 3.66078003,\n",
       "        3.80171715])}"
      ]
     },
     "execution_count": 458,
     "metadata": {},
     "output_type": "execute_result"
    }
   ],
   "source": [
    "models_evaluation_test['svd']"
   ]
  },
  {
   "cell_type": "markdown",
   "metadata": {},
   "source": [
    "### Content based filetring"
   ]
  },
  {
   "cell_type": "code",
   "execution_count": 459,
   "metadata": {},
   "outputs": [],
   "source": [
    "#Prepare data\n",
    "content_train_df = train_df[['name','rating']]\n",
    "content_test_df = test_df[['name','rating']]\n",
    "\n",
    "content_train_df['name'].fillna('',inplace = True)\n",
    "content_test_df['name'].fillna('',inplace = True)\n",
    "\n",
    "content_x_train = content_train_df['name'].values\n",
    "content_x_test = content_test_df['name'].values\n",
    "\n",
    "content_y_train = content_train_df['rating'].values\n",
    "content_y_test = content_test_df['rating'].values"
   ]
  },
  {
   "cell_type": "code",
   "execution_count": 460,
   "metadata": {},
   "outputs": [],
   "source": [
    "def tokenizer(text):\n",
    "    if text:\n",
    "        result = re.findall('[a-z]{2,}', text.lower())\n",
    "    else:\n",
    "        result = []\n",
    "    return result"
   ]
  },
  {
   "cell_type": "code",
   "execution_count": 461,
   "metadata": {},
   "outputs": [
    {
     "name": "stdout",
     "output_type": "stream",
     "text": [
      "Time to train vectorizer and transform training text: 1.58s\n"
     ]
    }
   ],
   "source": [
    "vect = TfidfVectorizer(tokenizer=tokenizer, stop_words=['english','german'])\n",
    "start = time.time()\n",
    "content_x_train_vect = vect.fit_transform(content_x_train)\n",
    "end = time.time()\n",
    "print('Time to train vectorizer and transform training text: %0.2fs' % (end - start))"
   ]
  },
  {
   "cell_type": "code",
   "execution_count": 462,
   "metadata": {},
   "outputs": [
    {
     "name": "stdout",
     "output_type": "stream",
     "text": [
      "Training the model..\n"
     ]
    },
    {
     "name": "stderr",
     "output_type": "stream",
     "text": [
      "C:\\Users\\shree\\Anaconda3\\lib\\site-packages\\sklearn\\linear_model\\stochastic_gradient.py:183: FutureWarning: max_iter and tol parameters have been added in SGDRegressor in 0.19. If max_iter is set but tol is left unset, the default value for tol in 0.19 and 0.20 will be None (which is equivalent to -infinity, so it has no effect) but will change in 0.21 to 1e-3. Specify tol to silence this warning.\n",
      "  FutureWarning)\n"
     ]
    },
    {
     "name": "stdout",
     "output_type": "stream",
     "text": [
      "Done. Time taken : 0:00:00.236406\n",
      "\n",
      "Done \n",
      "\n",
      "Evaluating the model with TRAIN data...\n",
      "Evaluating Test data\n",
      "\n",
      "TEST DATA\n",
      "------------------------------\n",
      "RMSE :  0.434850076922623\n",
      "MAPE :  8.442736950441033\n"
     ]
    }
   ],
   "source": [
    "#Initialize SGD\n",
    "content_sgd = SGDRegressor(loss='squared_loss', penalty='l2', random_state=15, max_iter=5,alpha=0.1)\n",
    "\n",
    "train_results, test_results = run_content_based(content_sgd, vect,content_x_train_vect, content_y_train, content_x_test, content_y_test)\n",
    "\n",
    "# store the results in models_evaluations dictionaries\n",
    "models_evaluation_train['content_sgd'] = train_results\n",
    "models_evaluation_test['content_sgd'] = test_results\n",
    "\n"
   ]
  },
  {
   "cell_type": "markdown",
   "metadata": {},
   "source": [
    "###  Gradient boosting models with intital features + Collaberative filtering"
   ]
  },
  {
   "cell_type": "code",
   "execution_count": 463,
   "metadata": {},
   "outputs": [],
   "source": [
    "reg_train = train_df\n",
    "reg_test = test_df"
   ]
  },
  {
   "cell_type": "code",
   "execution_count": 464,
   "metadata": {},
   "outputs": [],
   "source": [
    "reg_train['svd'] = models_evaluation_train['svd']['predictions']\n",
    "reg_test['svd'] = models_evaluation_test['svd']['predictions']\n",
    "reg_train['content_sgd'] = models_evaluation_train['content_sgd']['predictions']\n",
    "reg_test['content_sgd'] = models_evaluation_test['content_sgd']['predictions']"
   ]
  },
  {
   "cell_type": "code",
   "execution_count": 465,
   "metadata": {},
   "outputs": [],
   "source": [
    "#Final merged data\n",
    "\n",
    "#write the dataframe to a csv/pickle file in order to avoid the long runtime\n",
    "reg_train.to_csv(os.path.join(dir_path,\"saved_csv/reg_train.csv\"))\n",
    "reg_train.to_pickle(os.path.join(dir_path,\"pickels/reg_train\"))\n",
    "\n",
    "reg_test.to_csv(os.path.join(dir_path,\"saved_csv/reg_test.csv\"))\n",
    "reg_test.to_pickle(os.path.join(dir_path,\"pickels/reg_test\"))\n",
    "\n",
    "#Load from pickle.Run only if needed\n",
    "reg_train = pd.read_pickle(os.path.join(dir_path,\"pickels/reg_train\"))\n",
    "reg_test = pd.read_pickle(os.path.join(dir_path,\"pickels/reg_test\"))\n"
   ]
  },
  {
   "cell_type": "code",
   "execution_count": 466,
   "metadata": {},
   "outputs": [
    {
     "data": {
      "text/html": [
       "<div>\n",
       "<style scoped>\n",
       "    .dataframe tbody tr th:only-of-type {\n",
       "        vertical-align: middle;\n",
       "    }\n",
       "\n",
       "    .dataframe tbody tr th {\n",
       "        vertical-align: top;\n",
       "    }\n",
       "\n",
       "    .dataframe thead th {\n",
       "        text-align: right;\n",
       "    }\n",
       "</style>\n",
       "<table border=\"1\" class=\"dataframe\">\n",
       "  <thead>\n",
       "    <tr style=\"text-align: right;\">\n",
       "      <th></th>\n",
       "      <th>name</th>\n",
       "      <th>listing_id</th>\n",
       "      <th>accommodates</th>\n",
       "      <th>bathrooms</th>\n",
       "      <th>bedrooms</th>\n",
       "      <th>price</th>\n",
       "      <th>cleaning_fee</th>\n",
       "      <th>security_deposit</th>\n",
       "      <th>extra_people</th>\n",
       "      <th>guests_included</th>\n",
       "      <th>...</th>\n",
       "      <th>cancellation_policy_strict_14_with_grace_period</th>\n",
       "      <th>cancellation_policy_super_strict_30</th>\n",
       "      <th>cancellation_policy_super_strict_60</th>\n",
       "      <th>host_is_superhost_f</th>\n",
       "      <th>host_is_superhost_t</th>\n",
       "      <th>reviewer_id</th>\n",
       "      <th>date</th>\n",
       "      <th>rating</th>\n",
       "      <th>svd</th>\n",
       "      <th>content_sgd</th>\n",
       "    </tr>\n",
       "  </thead>\n",
       "  <tbody>\n",
       "    <tr>\n",
       "      <th>0</th>\n",
       "      <td>Fabulous Flat in great Location</td>\n",
       "      <td>3176</td>\n",
       "      <td>4</td>\n",
       "      <td>1.0</td>\n",
       "      <td>1.0</td>\n",
       "      <td>90.0</td>\n",
       "      <td>50.0</td>\n",
       "      <td>200.0</td>\n",
       "      <td>20.0</td>\n",
       "      <td>2</td>\n",
       "      <td>...</td>\n",
       "      <td>1</td>\n",
       "      <td>0</td>\n",
       "      <td>0</td>\n",
       "      <td>1</td>\n",
       "      <td>0</td>\n",
       "      <td>21475</td>\n",
       "      <td>2009-06-20</td>\n",
       "      <td>3.804286</td>\n",
       "      <td>3.865256</td>\n",
       "      <td>3.703030</td>\n",
       "    </tr>\n",
       "    <tr>\n",
       "      <th>1</th>\n",
       "      <td>BrightRoom with sunny greenview!</td>\n",
       "      <td>7071</td>\n",
       "      <td>2</td>\n",
       "      <td>1.0</td>\n",
       "      <td>1.0</td>\n",
       "      <td>42.0</td>\n",
       "      <td>0.0</td>\n",
       "      <td>0.0</td>\n",
       "      <td>24.0</td>\n",
       "      <td>1</td>\n",
       "      <td>...</td>\n",
       "      <td>0</td>\n",
       "      <td>0</td>\n",
       "      <td>0</td>\n",
       "      <td>0</td>\n",
       "      <td>1</td>\n",
       "      <td>30084</td>\n",
       "      <td>2009-08-18</td>\n",
       "      <td>4.267500</td>\n",
       "      <td>3.884257</td>\n",
       "      <td>3.689867</td>\n",
       "    </tr>\n",
       "  </tbody>\n",
       "</table>\n",
       "<p>2 rows × 41 columns</p>\n",
       "</div>"
      ],
      "text/plain": [
       "                               name  listing_id  accommodates  bathrooms  \\\n",
       "0   Fabulous Flat in great Location        3176             4        1.0   \n",
       "1  BrightRoom with sunny greenview!        7071             2        1.0   \n",
       "\n",
       "   bedrooms  price  cleaning_fee  security_deposit  extra_people  \\\n",
       "0       1.0   90.0          50.0             200.0          20.0   \n",
       "1       1.0   42.0           0.0               0.0          24.0   \n",
       "\n",
       "   guests_included  ...  cancellation_policy_strict_14_with_grace_period  \\\n",
       "0                2  ...                                                1   \n",
       "1                1  ...                                                0   \n",
       "\n",
       "   cancellation_policy_super_strict_30  cancellation_policy_super_strict_60  \\\n",
       "0                                    0                                    0   \n",
       "1                                    0                                    0   \n",
       "\n",
       "   host_is_superhost_f  host_is_superhost_t  reviewer_id        date  \\\n",
       "0                    1                    0        21475  2009-06-20   \n",
       "1                    0                    1        30084  2009-08-18   \n",
       "\n",
       "     rating       svd  content_sgd  \n",
       "0  3.804286  3.865256     3.703030  \n",
       "1  4.267500  3.884257     3.689867  \n",
       "\n",
       "[2 rows x 41 columns]"
      ]
     },
     "execution_count": 466,
     "metadata": {},
     "output_type": "execute_result"
    }
   ],
   "source": [
    "reg_train.head(2)"
   ]
  },
  {
   "cell_type": "code",
   "execution_count": 467,
   "metadata": {},
   "outputs": [],
   "source": [
    "# prepare Train data\n",
    "x_train = reg_train.drop(['listing_id','date','name','reviewer_id','rating'], axis=1)\n",
    "y_train = reg_train['rating']\n",
    "\n",
    "# Prepare Test data\n",
    "x_test = reg_test.drop(['listing_id','date','name','reviewer_id','rating'], axis=1)\n",
    "y_test = reg_test['rating']"
   ]
  },
  {
   "cell_type": "code",
   "execution_count": 468,
   "metadata": {},
   "outputs": [
    {
     "data": {
      "text/plain": [
       "Index(['accommodates', 'bathrooms', 'bedrooms', 'price', 'cleaning_fee',\n",
       "       'security_deposit', 'extra_people', 'guests_included', 'minimum_nights',\n",
       "       'number_of_reviews', 'distance', 'Laptop_friendly_workspace', 'TV',\n",
       "       'Family_kid_friendly', 'Host_greets_you', 'Smoking_allowed',\n",
       "       'room_type_Entire home/apt', 'room_type_Private room',\n",
       "       'room_type_Shared room', 'bed_type_Airbed', 'bed_type_Couch',\n",
       "       'bed_type_Futon', 'bed_type_Pull-out Sofa', 'bed_type_Real Bed',\n",
       "       'instant_bookable_f', 'instant_bookable_t',\n",
       "       'is_business_travel_ready_f', 'cancellation_policy_flexible',\n",
       "       'cancellation_policy_moderate',\n",
       "       'cancellation_policy_strict_14_with_grace_period',\n",
       "       'cancellation_policy_super_strict_30',\n",
       "       'cancellation_policy_super_strict_60', 'host_is_superhost_f',\n",
       "       'host_is_superhost_t', 'svd', 'content_sgd'],\n",
       "      dtype='object')"
      ]
     },
     "execution_count": 468,
     "metadata": {},
     "output_type": "execute_result"
    }
   ],
   "source": [
    "x_train.columns"
   ]
  },
  {
   "cell_type": "markdown",
   "metadata": {},
   "source": [
    "#### XG Boost"
   ]
  },
  {
   "cell_type": "code",
   "execution_count": 469,
   "metadata": {},
   "outputs": [
    {
     "name": "stdout",
     "output_type": "stream",
     "text": [
      "Training the model..\n"
     ]
    },
    {
     "name": "stderr",
     "output_type": "stream",
     "text": [
      "C:\\Users\\shree\\Anaconda3\\lib\\site-packages\\xgboost\\core.py:587: FutureWarning: Series.base is deprecated and will be removed in a future version\n",
      "  if getattr(data, 'base', None) is not None and \\\n",
      "C:\\Users\\shree\\Anaconda3\\lib\\site-packages\\xgboost\\core.py:588: FutureWarning: Series.base is deprecated and will be removed in a future version\n",
      "  data.base is not None and isinstance(data, np.ndarray) \\\n"
     ]
    },
    {
     "name": "stdout",
     "output_type": "stream",
     "text": [
      "[20:32:56] WARNING: C:/Jenkins/workspace/xgboost-win64_release_0.90/src/objective/regression_obj.cu:152: reg:linear is now deprecated in favor of reg:squarederror.\n",
      "Done. Time taken : 0:00:12.940242\n",
      "\n",
      "Done \n",
      "\n",
      "Evaluating the model with TRAIN data...\n",
      "Evaluating Test data\n",
      "\n",
      "TEST DATA\n",
      "------------------------------\n",
      "RMSE :  0.41386215397580445\n",
      "MAPE :  8.241416784832227\n"
     ]
    },
    {
     "data": {
      "image/png": "[encoded data removed]",
      "text/plain": [
       "<Figure size 576x396 with 1 Axes>"
      ]
     },
     "metadata": {},
     "output_type": "display_data"
    }
   ],
   "source": [
    "# initialize Our XGBoost model...\n",
    "hybrid_xgb = xgb.XGBRegressor(silent=False, n_jobs=13, random_state=15, n_estimators=200,learning_rate=0.05,colsample_bytree=0.4603, gamma=0.0468,eval_metric = 'rmse')\n",
    "train_results, test_results = run_boosting(hybrid_xgb, x_train, y_train, x_test, y_test)\n",
    "\n",
    "# store the results in models_evaluations dictionaries\n",
    "models_evaluation_train['hybrid_xgb'] = train_results\n",
    "models_evaluation_test['hybrid_xgb'] = test_results\n",
    "\n",
    "xgb.plot_importance(hybrid_xgb)\n",
    "plt.show()"
   ]
  },
  {
   "cell_type": "markdown",
   "metadata": {},
   "source": [
    "#### LGB Model"
   ]
  },
  {
   "cell_type": "code",
   "execution_count": 470,
   "metadata": {
    "scrolled": true
   },
   "outputs": [
    {
     "name": "stdout",
     "output_type": "stream",
     "text": [
      "Training the model..\n",
      "Done. Time taken : 0:00:02.002736\n",
      "\n",
      "Done \n",
      "\n",
      "Evaluating the model with TRAIN data...\n",
      "Evaluating Test data\n",
      "\n",
      "TEST DATA\n",
      "------------------------------\n",
      "RMSE :  0.4160405986810947\n",
      "MAPE :  8.297646529379186\n"
     ]
    },
    {
     "data": {
      "image/png": "[encoded data removed]",
      "text/plain": [
       "<Figure size 576x396 with 1 Axes>"
      ]
     },
     "metadata": {},
     "output_type": "display_data"
    }
   ],
   "source": [
    "hybrid_lgb = lgb.LGBMRegressor(objective='regression',num_leaves=5,\n",
    "                              learning_rate=0.8, n_estimators=200,eval_metric = 'rmse')\n",
    "train_results, test_results = run_boosting(hybrid_lgb, x_train, y_train, x_test, y_test)\n",
    "\n",
    "# store the results in models_evaluations dictionaries\n",
    "models_evaluation_train['hybrid_lgb'] = train_results\n",
    "models_evaluation_test['hybrid_lgb'] = test_results\n",
    "\n",
    "lgb.plot_importance(hybrid_lgb)\n",
    "plt.show()"
   ]
  },
  {
   "cell_type": "markdown",
   "metadata": {},
   "source": [
    "### AdaBoost"
   ]
  },
  {
   "cell_type": "code",
   "execution_count": 471,
   "metadata": {},
   "outputs": [
    {
     "name": "stdout",
     "output_type": "stream",
     "text": [
      "Training the model..\n",
      "Done. Time taken : 0:01:47.366249\n",
      "\n",
      "Done \n",
      "\n",
      "Evaluating the model with TRAIN data...\n",
      "Evaluating Test data\n",
      "\n",
      "TEST DATA\n",
      "------------------------------\n",
      "RMSE :  0.47565969969393\n",
      "MAPE :  9.322688619932858\n"
     ]
    },
    {
     "data": {
      "image/png": "[encoded data removed]",
      "text/plain": [
       "<Figure size 576x396 with 1 Axes>"
      ]
     },
     "metadata": {},
     "output_type": "display_data"
    }
   ],
   "source": [
    "hybrid_AdaBoost = AdaBoostRegressor(n_estimators= 200, random_state=15,learning_rate=0.1,loss = 'square')\n",
    "\n",
    "train_results, test_results = run_boosting(hybrid_AdaBoost, x_train, y_train, x_test, y_test)\n",
    "\n",
    "# store the results in models_evaluations dictionaries\n",
    "models_evaluation_train['hybrid_AdaBoost'] = train_results\n",
    "models_evaluation_test['hybrid_AdaBoost'] = test_results\n",
    "\n",
    "\n",
    "\n",
    "features = list(x_train.columns)\n",
    "importances = hybrid_AdaBoost.feature_importances_\n",
    "indices = np.argsort(importances)\n",
    "\n",
    "plt.title('Feature Importances')\n",
    "plt.barh(range(len(indices)), importances[indices], color='b', align='center')\n",
    "plt.yticks(range(len(indices)), [features[i] for i in indices])\n",
    "plt.xlabel('Relative Importance')\n",
    "plt.show()"
   ]
  },
  {
   "cell_type": "markdown",
   "metadata": {},
   "source": [
    "### CatBoost"
   ]
  },
  {
   "cell_type": "code",
   "execution_count": 472,
   "metadata": {},
   "outputs": [
    {
     "name": "stdout",
     "output_type": "stream",
     "text": [
      "Training the model..\n",
      "0:\tlearn: 1.5689035\ttotal: 62.8ms\tremaining: 1.19s\n",
      "1:\tlearn: 0.7200376\ttotal: 104ms\tremaining: 933ms\n",
      "2:\tlearn: 0.4550191\ttotal: 127ms\tremaining: 717ms\n",
      "3:\tlearn: 0.3964883\ttotal: 164ms\tremaining: 654ms\n",
      "4:\tlearn: 0.3860132\ttotal: 233ms\tremaining: 699ms\n",
      "5:\tlearn: 0.3841190\ttotal: 258ms\tremaining: 603ms\n",
      "6:\tlearn: 0.3834926\ttotal: 286ms\tremaining: 530ms\n",
      "7:\tlearn: 0.3832830\ttotal: 336ms\tremaining: 504ms\n",
      "8:\tlearn: 0.3831793\ttotal: 357ms\tremaining: 436ms\n",
      "9:\tlearn: 0.3831293\ttotal: 377ms\tremaining: 377ms\n",
      "10:\tlearn: 0.3830406\ttotal: 399ms\tremaining: 326ms\n",
      "11:\tlearn: 0.3829847\ttotal: 523ms\tremaining: 349ms\n",
      "12:\tlearn: 0.3829547\ttotal: 556ms\tremaining: 299ms\n",
      "13:\tlearn: 0.3829397\ttotal: 593ms\tremaining: 254ms\n",
      "14:\tlearn: 0.3829293\ttotal: 618ms\tremaining: 206ms\n",
      "15:\tlearn: 0.3829078\ttotal: 718ms\tremaining: 180ms\n",
      "16:\tlearn: 0.3828901\ttotal: 741ms\tremaining: 131ms\n",
      "17:\tlearn: 0.3828863\ttotal: 760ms\tremaining: 84.4ms\n",
      "18:\tlearn: 0.3828622\ttotal: 838ms\tremaining: 44.1ms\n",
      "19:\tlearn: 0.3828535\ttotal: 858ms\tremaining: 0us\n",
      "Done. Time taken : 0:00:06.005647\n",
      "\n",
      "Done \n",
      "\n",
      "Evaluating the model with TRAIN data...\n",
      "Evaluating Test data\n",
      "\n",
      "TEST DATA\n",
      "------------------------------\n",
      "RMSE :  0.41440293771755043\n",
      "MAPE :  8.2498793771266\n"
     ]
    },
    {
     "data": {
      "image/png": "[encoded data removed]",
      "text/plain": [
       "<Figure size 576x396 with 1 Axes>"
      ]
     },
     "metadata": {},
     "output_type": "display_data"
    }
   ],
   "source": [
    "hybrid_CatBoost = CatBoostRegressor(learning_rate=0.6,depth=2,n_estimators=20)\n",
    "\n",
    "train_results, test_results = run_boosting(hybrid_CatBoost, x_train, y_train, x_test, y_test)\n",
    "\n",
    "# store the results in models_evaluations dictionaries\n",
    "models_evaluation_train['hybrid_CatBoost'] = train_results\n",
    "models_evaluation_test['hybrid_CatBoost'] = test_results\n",
    "\n",
    "features = list(x_train.columns)\n",
    "importances = hybrid_CatBoost.feature_importances_\n",
    "indices = np.argsort(importances)\n",
    "\n",
    "plt.title('Feature Importances')\n",
    "plt.barh(range(len(indices)), importances[indices], color='b', align='center')\n",
    "plt.yticks(range(len(indices)), [features[i] for i in indices])\n",
    "plt.xlabel('Relative Importance')\n",
    "plt.show()"
   ]
  },
  {
   "cell_type": "markdown",
   "metadata": {},
   "source": [
    "## Comparision between all models"
   ]
  },
  {
   "cell_type": "code",
   "execution_count": 448,
   "metadata": {},
   "outputs": [
    {
     "data": {
      "text/html": [
       "<div>\n",
       "<style scoped>\n",
       "    .dataframe tbody tr th:only-of-type {\n",
       "        vertical-align: middle;\n",
       "    }\n",
       "\n",
       "    .dataframe tbody tr th {\n",
       "        vertical-align: top;\n",
       "    }\n",
       "\n",
       "    .dataframe thead th {\n",
       "        text-align: right;\n",
       "    }\n",
       "</style>\n",
       "<table border=\"1\" class=\"dataframe\">\n",
       "  <thead>\n",
       "    <tr style=\"text-align: right;\">\n",
       "      <th></th>\n",
       "      <th>svd</th>\n",
       "      <th>content_sgd</th>\n",
       "      <th>hybrid_xgb</th>\n",
       "      <th>hybrid_lgb</th>\n",
       "      <th>hybrid_AdaBoost</th>\n",
       "      <th>hybrid_CatBoost</th>\n",
       "    </tr>\n",
       "  </thead>\n",
       "  <tbody>\n",
       "    <tr>\n",
       "      <th>rmse</th>\n",
       "      <td>0.4167141932043671</td>\n",
       "      <td>0.434850076922623</td>\n",
       "      <td>0.41386215397580445</td>\n",
       "      <td>0.4160405986810947</td>\n",
       "      <td>0.47565969969393</td>\n",
       "      <td>0.41440293771755043</td>\n",
       "    </tr>\n",
       "    <tr>\n",
       "      <th>mape</th>\n",
       "      <td>8.35117408501594</td>\n",
       "      <td>8.442736950441033</td>\n",
       "      <td>8.241416784832227</td>\n",
       "      <td>8.297646529379186</td>\n",
       "      <td>9.322688619932858</td>\n",
       "      <td>8.2498793771266</td>\n",
       "    </tr>\n",
       "  </tbody>\n",
       "</table>\n",
       "</div>"
      ],
      "text/plain": [
       "                     svd        content_sgd           hybrid_xgb  \\\n",
       "rmse  0.4167141932043671  0.434850076922623  0.41386215397580445   \n",
       "mape    8.35117408501594  8.442736950441033    8.241416784832227   \n",
       "\n",
       "              hybrid_lgb    hybrid_AdaBoost      hybrid_CatBoost  \n",
       "rmse  0.4160405986810947   0.47565969969393  0.41440293771755043  \n",
       "mape   8.297646529379186  9.322688619932858      8.2498793771266  "
      ]
     },
     "execution_count": 448,
     "metadata": {},
     "output_type": "execute_result"
    }
   ],
   "source": [
    "# Saving our TEST_RESULTS into a dataframe so that you don't have to run it again\n",
    "pd.DataFrame(models_evaluation_test).to_csv(os.path.join(dir_path , 'result/model_evaluation_results.csv'))\n",
    "models = pd.read_csv(os.path.join(dir_path , 'result/model_evaluation_results.csv'), index_col=0)\n",
    "models.loc[['rmse','mape']]"
   ]
  }
 ],
 "metadata": {
  "kernelspec": {
   "display_name": "Python 3",
   "language": "python",
   "name": "python3"
  },
  "language_info": {
   "codemirror_mode": {
    "name": "ipython",
    "version": 3
   },
   "file_extension": ".py",
   "mimetype": "text/x-python",
   "name": "python",
   "nbconvert_exporter": "python",
   "pygments_lexer": "ipython3",
   "version": "3.7.1"
  }
 },
 "nbformat": 4,
 "nbformat_minor": 2
}
